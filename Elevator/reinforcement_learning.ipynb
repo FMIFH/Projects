{
 "cells": [
  {
   "cell_type": "code",
   "execution_count": 1,
   "metadata": {},
   "outputs": [],
   "source": [
    "from elevatorSystemEnv import *\n",
    "import numpy as np\n",
    "from stable_baselines3 import A2C, PPO, DQN\n",
    "from stable_baselines3.common.callbacks import EvalCallback\n",
    "from stable_baselines3.common.monitor import Monitor\n",
    "\n",
    "import gym"
   ]
  },
  {
   "cell_type": "code",
   "execution_count": 2,
   "metadata": {},
   "outputs": [],
   "source": [
    "n_elevators = 2\n",
    "n_floors = 10\n",
    "env = ElevatorSystemEnv(n_elevators,n_floors)\n",
    "plays = env.action_space"
   ]
  },
  {
   "cell_type": "code",
   "execution_count": 3,
   "metadata": {},
   "outputs": [
    {
     "name": "stdout",
     "output_type": "stream",
     "text": [
      "Episode:1 Score: 14\n",
      "Episode:2 Score: 40\n",
      "Episode:3 Score: 12\n",
      "Episode:4 Score: 12\n"
     ]
    }
   ],
   "source": [
    "for episode in range(1,5):\n",
    "    obs = env.reset()\n",
    "    done = False\n",
    "    score = 0    \n",
    "    while not done:        \n",
    "        obs, reward, done, info = env.step(plays.sample())\n",
    "        score += reward\n",
    "\n",
    "    print('Episode:{} Score: {}'.format(episode,score))"
   ]
  },
  {
   "cell_type": "code",
   "execution_count": 4,
   "metadata": {},
   "outputs": [],
   "source": [
    "states = env.observation_space.shape[0]\n",
    "actions = env.action_space.n"
   ]
  },
  {
   "cell_type": "code",
   "execution_count": 5,
   "metadata": {},
   "outputs": [
    {
     "data": {
      "text/plain": [
       "24"
      ]
     },
     "execution_count": 5,
     "metadata": {},
     "output_type": "execute_result"
    }
   ],
   "source": [
    "states"
   ]
  },
  {
   "cell_type": "code",
   "execution_count": 6,
   "metadata": {},
   "outputs": [
    {
     "data": {
      "text/plain": [
       "10"
      ]
     },
     "execution_count": 6,
     "metadata": {},
     "output_type": "execute_result"
    }
   ],
   "source": [
    "actions"
   ]
  },
  {
   "cell_type": "code",
   "execution_count": 7,
   "metadata": {},
   "outputs": [],
   "source": [
    "def train(env,model,name,timesteps):\n",
    "    eval_callback = EvalCallback(Monitor(env), best_model_save_path='./logs/{}_best_model'.format(name),\n",
    "                             log_path='./logs/results', eval_freq=10000, verbose=0)\n",
    "    model.learn(total_timesteps=int(timesteps),progress_bar=True,callback=eval_callback)"
   ]
  },
  {
   "cell_type": "code",
   "execution_count": 8,
   "metadata": {},
   "outputs": [],
   "source": [
    "def test(model):\n",
    "    res = np.empty(10)\n",
    "    for episode in range(1,11):\n",
    "        obs = env.reset()\n",
    "        done = False\n",
    "        score = 0    \n",
    "        while not done:        \n",
    "            action, _states = model.predict(obs)\n",
    "            obs, reward, done, info = env.step(action)\n",
    "            score += reward\n",
    "        res[episode-1] = score\n",
    "\n",
    "        print('Episode:{} Score: {}'.format(episode,score))\n",
    "    print('Mean:{}'.format(np.mean(res)))"
   ]
  },
  {
   "cell_type": "code",
   "execution_count": 9,
   "metadata": {},
   "outputs": [],
   "source": [
    "model = A2C('MlpPolicy', env, verbose=0)"
   ]
  },
  {
   "cell_type": "code",
   "execution_count": 10,
   "metadata": {},
   "outputs": [
    {
     "data": {
      "application/vnd.jupyter.widget-view+json": {
       "model_id": "7b27e10abe704d95ab20d57378cd20c2",
       "version_major": 2,
       "version_minor": 0
      },
      "text/plain": [
       "Output()"
      ]
     },
     "metadata": {},
     "output_type": "display_data"
    },
    {
     "data": {
      "text/html": [
       "<pre style=\"white-space:pre;overflow-x:auto;line-height:normal;font-family:Menlo,'DejaVu Sans Mono',consolas,'Courier New',monospace\"></pre>\n"
      ],
      "text/plain": []
     },
     "metadata": {},
     "output_type": "display_data"
    },
    {
     "data": {
      "text/html": [
       "<pre style=\"white-space:pre;overflow-x:auto;line-height:normal;font-family:Menlo,'DejaVu Sans Mono',consolas,'Courier New',monospace\">\n",
       "</pre>\n"
      ],
      "text/plain": [
       "\n"
      ]
     },
     "metadata": {},
     "output_type": "display_data"
    }
   ],
   "source": [
    "train(env,model,'a2c',5e5)"
   ]
  },
  {
   "cell_type": "code",
   "execution_count": 11,
   "metadata": {},
   "outputs": [
    {
     "name": "stdout",
     "output_type": "stream",
     "text": [
      "Episode:1 Score: 603\n",
      "Episode:2 Score: 713\n",
      "Episode:3 Score: 481\n",
      "Episode:4 Score: 660\n",
      "Episode:5 Score: 667\n",
      "Episode:6 Score: 506\n",
      "Episode:7 Score: 542\n",
      "Episode:8 Score: 571\n",
      "Episode:9 Score: 554\n",
      "Episode:10 Score: 662\n",
      "Mean:595.9\n"
     ]
    }
   ],
   "source": [
    "test(A2C.load('logs/a2c_best_model/best_model.zip'))"
   ]
  },
  {
   "cell_type": "code",
   "execution_count": 12,
   "metadata": {},
   "outputs": [],
   "source": [
    "model2 = PPO('MlpPolicy', env, verbose=0)\n"
   ]
  },
  {
   "cell_type": "code",
   "execution_count": 13,
   "metadata": {},
   "outputs": [
    {
     "data": {
      "application/vnd.jupyter.widget-view+json": {
       "model_id": "d3bf2e17b66c465dbc5b78dce511abdb",
       "version_major": 2,
       "version_minor": 0
      },
      "text/plain": [
       "Output()"
      ]
     },
     "metadata": {},
     "output_type": "display_data"
    },
    {
     "data": {
      "text/html": [
       "<pre style=\"white-space:pre;overflow-x:auto;line-height:normal;font-family:Menlo,'DejaVu Sans Mono',consolas,'Courier New',monospace\"></pre>\n"
      ],
      "text/plain": []
     },
     "metadata": {},
     "output_type": "display_data"
    },
    {
     "data": {
      "text/html": [
       "<pre style=\"white-space:pre;overflow-x:auto;line-height:normal;font-family:Menlo,'DejaVu Sans Mono',consolas,'Courier New',monospace\">\n",
       "</pre>\n"
      ],
      "text/plain": [
       "\n"
      ]
     },
     "metadata": {},
     "output_type": "display_data"
    }
   ],
   "source": [
    "train(env,model2,'ppo',5e5)"
   ]
  },
  {
   "cell_type": "code",
   "execution_count": 14,
   "metadata": {},
   "outputs": [
    {
     "name": "stdout",
     "output_type": "stream",
     "text": [
      "Episode:1 Score: 904\n",
      "Episode:2 Score: 988\n",
      "Episode:3 Score: 811\n",
      "Episode:4 Score: 951\n",
      "Episode:5 Score: 970\n",
      "Episode:6 Score: 941\n",
      "Episode:7 Score: 961\n",
      "Episode:8 Score: 913\n",
      "Episode:9 Score: 971\n",
      "Episode:10 Score: 915\n",
      "Mean:932.5\n"
     ]
    }
   ],
   "source": [
    "test(PPO.load('./logs/ppo_best_model/best_model.zip'))"
   ]
  },
  {
   "cell_type": "code",
   "execution_count": 15,
   "metadata": {},
   "outputs": [],
   "source": [
    "model3 = DQN('MlpPolicy', env, verbose=0)\n"
   ]
  },
  {
   "cell_type": "code",
   "execution_count": 16,
   "metadata": {},
   "outputs": [
    {
     "data": {
      "application/vnd.jupyter.widget-view+json": {
       "model_id": "8e7d3a34af0c4af9ae9aea42f7a6d522",
       "version_major": 2,
       "version_minor": 0
      },
      "text/plain": [
       "Output()"
      ]
     },
     "metadata": {},
     "output_type": "display_data"
    },
    {
     "data": {
      "text/html": [
       "<pre style=\"white-space:pre;overflow-x:auto;line-height:normal;font-family:Menlo,'DejaVu Sans Mono',consolas,'Courier New',monospace\"></pre>\n"
      ],
      "text/plain": []
     },
     "metadata": {},
     "output_type": "display_data"
    },
    {
     "data": {
      "text/html": [
       "<pre style=\"white-space:pre;overflow-x:auto;line-height:normal;font-family:Menlo,'DejaVu Sans Mono',consolas,'Courier New',monospace\">\n",
       "</pre>\n"
      ],
      "text/plain": [
       "\n"
      ]
     },
     "metadata": {},
     "output_type": "display_data"
    }
   ],
   "source": [
    "train(env,model3,'dqn',5e5)"
   ]
  },
  {
   "cell_type": "code",
   "execution_count": 17,
   "metadata": {},
   "outputs": [
    {
     "name": "stdout",
     "output_type": "stream",
     "text": [
      "Episode:1 Score: 17\n",
      "Episode:2 Score: 21\n",
      "Episode:3 Score: 40\n",
      "Episode:4 Score: 12\n",
      "Episode:5 Score: 35\n",
      "Episode:6 Score: 29\n",
      "Episode:7 Score: 13\n",
      "Episode:8 Score: 58\n",
      "Episode:9 Score: 34\n",
      "Episode:10 Score: 23\n",
      "Mean:28.2\n"
     ]
    }
   ],
   "source": [
    "test(DQN.load('./logs/dqn_best_model/best_model.zip'))"
   ]
  }
 ],
 "metadata": {
  "kernelspec": {
   "display_name": "Python 3",
   "language": "python",
   "name": "python3"
  },
  "language_info": {
   "codemirror_mode": {
    "name": "ipython",
    "version": 3
   },
   "file_extension": ".py",
   "mimetype": "text/x-python",
   "name": "python",
   "nbconvert_exporter": "python",
   "pygments_lexer": "ipython3",
   "version": "3.10.0"
  },
  "orig_nbformat": 4
 },
 "nbformat": 4,
 "nbformat_minor": 2
}
