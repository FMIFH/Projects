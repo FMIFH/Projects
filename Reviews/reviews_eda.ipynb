{
 "cells": [
  {
   "cell_type": "code",
   "execution_count": 168,
   "metadata": {},
   "outputs": [],
   "source": [
    "import pandas as pd\n",
    "import numpy as np\n",
    "import matplotlib.pyplot as plt\n",
    "import seaborn as sns"
   ]
  },
  {
   "cell_type": "code",
   "execution_count": 169,
   "metadata": {},
   "outputs": [],
   "source": [
    "df = pd.read_json(\"reviews (1).json\",lines=True)"
   ]
  },
  {
   "cell_type": "code",
   "execution_count": 170,
   "metadata": {},
   "outputs": [
    {
     "data": {
      "text/plain": [
       "(1386, 9)"
      ]
     },
     "execution_count": 170,
     "metadata": {},
     "output_type": "execute_result"
    }
   ],
   "source": [
    "df.shape"
   ]
  },
  {
   "cell_type": "code",
   "execution_count": 171,
   "metadata": {},
   "outputs": [
    {
     "data": {
      "text/html": [
       "<div>\n",
       "<style scoped>\n",
       "    .dataframe tbody tr th:only-of-type {\n",
       "        vertical-align: middle;\n",
       "    }\n",
       "\n",
       "    .dataframe tbody tr th {\n",
       "        vertical-align: top;\n",
       "    }\n",
       "\n",
       "    .dataframe thead th {\n",
       "        text-align: right;\n",
       "    }\n",
       "</style>\n",
       "<table border=\"1\" class=\"dataframe\">\n",
       "  <thead>\n",
       "    <tr style=\"text-align: right;\">\n",
       "      <th></th>\n",
       "      <th>reviewerID</th>\n",
       "      <th>asin</th>\n",
       "      <th>reviewerName</th>\n",
       "      <th>helpful</th>\n",
       "      <th>reviewText</th>\n",
       "      <th>overall</th>\n",
       "      <th>summary</th>\n",
       "      <th>unixReviewTime</th>\n",
       "      <th>reviewTime</th>\n",
       "    </tr>\n",
       "  </thead>\n",
       "  <tbody>\n",
       "    <tr>\n",
       "      <th>0</th>\n",
       "      <td>A1F6404F1VG29J</td>\n",
       "      <td>B000F83SZQ</td>\n",
       "      <td>Avidreader</td>\n",
       "      <td>[0, 0]</td>\n",
       "      <td>I enjoy vintage books and movies so I enjoyed ...</td>\n",
       "      <td>5.0</td>\n",
       "      <td>Nice vintage story</td>\n",
       "      <td>1399248000</td>\n",
       "      <td>05 5, 2014</td>\n",
       "    </tr>\n",
       "    <tr>\n",
       "      <th>1</th>\n",
       "      <td>AN0N05A9LIJEQ</td>\n",
       "      <td>B000F83SZQ</td>\n",
       "      <td>critters</td>\n",
       "      <td>[2, 2]</td>\n",
       "      <td>This book is a reissue of an old one; the auth...</td>\n",
       "      <td>4.0</td>\n",
       "      <td>Different...</td>\n",
       "      <td>1388966400</td>\n",
       "      <td>01 6, 2014</td>\n",
       "    </tr>\n",
       "    <tr>\n",
       "      <th>2</th>\n",
       "      <td>A795DMNCJILA6</td>\n",
       "      <td>B000F83SZQ</td>\n",
       "      <td>dot</td>\n",
       "      <td>[2, 2]</td>\n",
       "      <td>This was a fairly interesting read.  It had ol...</td>\n",
       "      <td>4.0</td>\n",
       "      <td>Oldie</td>\n",
       "      <td>1396569600</td>\n",
       "      <td>04 4, 2014</td>\n",
       "    </tr>\n",
       "    <tr>\n",
       "      <th>3</th>\n",
       "      <td>A1FV0SX13TWVXQ</td>\n",
       "      <td>B000F83SZQ</td>\n",
       "      <td>Elaine H. Turley \"Montana Songbird\"</td>\n",
       "      <td>[1, 1]</td>\n",
       "      <td>I'd never read any of the Amy Brewster mysteri...</td>\n",
       "      <td>5.0</td>\n",
       "      <td>I really liked it.</td>\n",
       "      <td>1392768000</td>\n",
       "      <td>02 19, 2014</td>\n",
       "    </tr>\n",
       "    <tr>\n",
       "      <th>4</th>\n",
       "      <td>A3SPTOKDG7WBLN</td>\n",
       "      <td>B000F83SZQ</td>\n",
       "      <td>Father Dowling Fan</td>\n",
       "      <td>[0, 1]</td>\n",
       "      <td>If you like period pieces - clothing, lingo, y...</td>\n",
       "      <td>4.0</td>\n",
       "      <td>Period Mystery</td>\n",
       "      <td>1395187200</td>\n",
       "      <td>03 19, 2014</td>\n",
       "    </tr>\n",
       "  </tbody>\n",
       "</table>\n",
       "</div>"
      ],
      "text/plain": [
       "       reviewerID        asin                         reviewerName helpful  \\\n",
       "0  A1F6404F1VG29J  B000F83SZQ                           Avidreader  [0, 0]   \n",
       "1   AN0N05A9LIJEQ  B000F83SZQ                             critters  [2, 2]   \n",
       "2   A795DMNCJILA6  B000F83SZQ                                  dot  [2, 2]   \n",
       "3  A1FV0SX13TWVXQ  B000F83SZQ  Elaine H. Turley \"Montana Songbird\"  [1, 1]   \n",
       "4  A3SPTOKDG7WBLN  B000F83SZQ                   Father Dowling Fan  [0, 1]   \n",
       "\n",
       "                                          reviewText  overall  \\\n",
       "0  I enjoy vintage books and movies so I enjoyed ...      5.0   \n",
       "1  This book is a reissue of an old one; the auth...      4.0   \n",
       "2  This was a fairly interesting read.  It had ol...      4.0   \n",
       "3  I'd never read any of the Amy Brewster mysteri...      5.0   \n",
       "4  If you like period pieces - clothing, lingo, y...      4.0   \n",
       "\n",
       "              summary  unixReviewTime   reviewTime  \n",
       "0  Nice vintage story      1399248000   05 5, 2014  \n",
       "1        Different...      1388966400   01 6, 2014  \n",
       "2               Oldie      1396569600   04 4, 2014  \n",
       "3  I really liked it.      1392768000  02 19, 2014  \n",
       "4      Period Mystery      1395187200  03 19, 2014  "
      ]
     },
     "execution_count": 171,
     "metadata": {},
     "output_type": "execute_result"
    }
   ],
   "source": [
    "df.head()"
   ]
  },
  {
   "cell_type": "code",
   "execution_count": 172,
   "metadata": {},
   "outputs": [],
   "source": [
    "df = df.rename(columns={'asin':'product_id'})"
   ]
  },
  {
   "cell_type": "code",
   "execution_count": 173,
   "metadata": {},
   "outputs": [
    {
     "data": {
      "text/plain": [
       "reviewerID         object\n",
       "product_id         object\n",
       "reviewerName       object\n",
       "helpful            object\n",
       "reviewText         object\n",
       "overall           float64\n",
       "summary            object\n",
       "unixReviewTime      int64\n",
       "reviewTime         object\n",
       "dtype: object"
      ]
     },
     "execution_count": 173,
     "metadata": {},
     "output_type": "execute_result"
    }
   ],
   "source": [
    "df.dtypes"
   ]
  },
  {
   "cell_type": "code",
   "execution_count": 174,
   "metadata": {},
   "outputs": [],
   "source": [
    "df.reviewTime = pd.to_datetime(df.reviewTime)"
   ]
  },
  {
   "cell_type": "code",
   "execution_count": 175,
   "metadata": {},
   "outputs": [
    {
     "name": "stdout",
     "output_type": "stream",
     "text": [
      "<class 'pandas.core.frame.DataFrame'>\n",
      "RangeIndex: 1386 entries, 0 to 1385\n",
      "Data columns (total 9 columns):\n",
      " #   Column          Non-Null Count  Dtype         \n",
      "---  ------          --------------  -----         \n",
      " 0   reviewerID      1386 non-null   object        \n",
      " 1   product_id      1386 non-null   object        \n",
      " 2   reviewerName    1384 non-null   object        \n",
      " 3   helpful         1386 non-null   object        \n",
      " 4   reviewText      1386 non-null   object        \n",
      " 5   overall         1375 non-null   float64       \n",
      " 6   summary         1386 non-null   object        \n",
      " 7   unixReviewTime  1386 non-null   int64         \n",
      " 8   reviewTime      1386 non-null   datetime64[ns]\n",
      "dtypes: datetime64[ns](1), float64(1), int64(1), object(6)\n",
      "memory usage: 97.6+ KB\n"
     ]
    }
   ],
   "source": [
    "df.info(verbose=True)"
   ]
  },
  {
   "cell_type": "code",
   "execution_count": 176,
   "metadata": {},
   "outputs": [
    {
     "data": {
      "text/html": [
       "<div>\n",
       "<style scoped>\n",
       "    .dataframe tbody tr th:only-of-type {\n",
       "        vertical-align: middle;\n",
       "    }\n",
       "\n",
       "    .dataframe tbody tr th {\n",
       "        vertical-align: top;\n",
       "    }\n",
       "\n",
       "    .dataframe thead th {\n",
       "        text-align: right;\n",
       "    }\n",
       "</style>\n",
       "<table border=\"1\" class=\"dataframe\">\n",
       "  <thead>\n",
       "    <tr style=\"text-align: right;\">\n",
       "      <th></th>\n",
       "      <th>reviewerID</th>\n",
       "      <th>product_id</th>\n",
       "      <th>reviewerName</th>\n",
       "      <th>helpful</th>\n",
       "      <th>reviewText</th>\n",
       "      <th>overall</th>\n",
       "      <th>summary</th>\n",
       "      <th>unixReviewTime</th>\n",
       "      <th>reviewTime</th>\n",
       "    </tr>\n",
       "  </thead>\n",
       "  <tbody>\n",
       "    <tr>\n",
       "      <th>22</th>\n",
       "      <td>A1UG4Q4D3OAH3A</td>\n",
       "      <td>B000FA64QO</td>\n",
       "      <td>dsa</td>\n",
       "      <td>[0, 0]</td>\n",
       "      <td>Great book couldn't put it down.  The story ex...</td>\n",
       "      <td>NaN</td>\n",
       "      <td>Ylesia</td>\n",
       "      <td>1391472000</td>\n",
       "      <td>2014-02-04</td>\n",
       "    </tr>\n",
       "    <tr>\n",
       "      <th>29</th>\n",
       "      <td>A2EN84QHDRZLP2</td>\n",
       "      <td>B000FBFMVG</td>\n",
       "      <td>Carl craft</td>\n",
       "      <td>[0, 0]</td>\n",
       "      <td>Great short story. It gives a little more insi...</td>\n",
       "      <td>NaN</td>\n",
       "      <td>Another read</td>\n",
       "      <td>1388620800</td>\n",
       "      <td>2014-01-02</td>\n",
       "    </tr>\n",
       "    <tr>\n",
       "      <th>63</th>\n",
       "      <td>AEC18J7P03ZBP</td>\n",
       "      <td>B000FC2MB8</td>\n",
       "      <td>pigskin</td>\n",
       "      <td>[0, 0]</td>\n",
       "      <td>I look forward to getting to the next books, a...</td>\n",
       "      <td>NaN</td>\n",
       "      <td>Also, exciting and descriptive.</td>\n",
       "      <td>1375142400</td>\n",
       "      <td>2013-07-30</td>\n",
       "    </tr>\n",
       "    <tr>\n",
       "      <th>64</th>\n",
       "      <td>A39N0BN4B2Q7F</td>\n",
       "      <td>B000FDJ0FS</td>\n",
       "      <td>Amazoner \"reader, thinker, doer\"</td>\n",
       "      <td>[2, 9]</td>\n",
       "      <td>He had an english accent which he seemed tryin...</td>\n",
       "      <td>NaN</td>\n",
       "      <td>In was thinking of getting until I heard the c...</td>\n",
       "      <td>1386633600</td>\n",
       "      <td>2013-12-10</td>\n",
       "    </tr>\n",
       "    <tr>\n",
       "      <th>385</th>\n",
       "      <td>A2VQLTC61OV8U3</td>\n",
       "      <td>B000JQUTGK</td>\n",
       "      <td>NaN</td>\n",
       "      <td>[0, 0]</td>\n",
       "      <td>Not very well written but historical details i...</td>\n",
       "      <td>4.0</td>\n",
       "      <td>Four Stars</td>\n",
       "      <td>1405555200</td>\n",
       "      <td>2014-07-17</td>\n",
       "    </tr>\n",
       "    <tr>\n",
       "      <th>549</th>\n",
       "      <td>A2Q49SE6Q1NVCQ</td>\n",
       "      <td>B000QCS8YM</td>\n",
       "      <td>David Wesley tonkin</td>\n",
       "      <td>[0, 0]</td>\n",
       "      <td>There are not really enough superlatives ... o...</td>\n",
       "      <td>NaN</td>\n",
       "      <td>Conan Doyle is the Master!</td>\n",
       "      <td>1392508800</td>\n",
       "      <td>2014-02-16</td>\n",
       "    </tr>\n",
       "    <tr>\n",
       "      <th>550</th>\n",
       "      <td>AXYFNRDTY33TU</td>\n",
       "      <td>B000QCS8YM</td>\n",
       "      <td>Josephnatdog \"Bookwormjr\"</td>\n",
       "      <td>[0, 0]</td>\n",
       "      <td>Adventure, thrills, action, great detection.  ...</td>\n",
       "      <td>NaN</td>\n",
       "      <td>Love it</td>\n",
       "      <td>1371513600</td>\n",
       "      <td>2013-06-18</td>\n",
       "    </tr>\n",
       "    <tr>\n",
       "      <th>551</th>\n",
       "      <td>A295A2TPG8JJ7Y</td>\n",
       "      <td>B000QCS8YM</td>\n",
       "      <td>Librarian</td>\n",
       "      <td>[21, 21]</td>\n",
       "      <td>This authorized 2-volume set (joined into one ...</td>\n",
       "      <td>NaN</td>\n",
       "      <td>Absolute BEST Holmes set: 100% complete &amp; perf...</td>\n",
       "      <td>1361664000</td>\n",
       "      <td>2013-02-24</td>\n",
       "    </tr>\n",
       "    <tr>\n",
       "      <th>552</th>\n",
       "      <td>A1M3NVR8A3O627</td>\n",
       "      <td>B000QCS8YM</td>\n",
       "      <td>Stephen</td>\n",
       "      <td>[0, 0]</td>\n",
       "      <td>Volume 1 of the Sherlock Holmes series is abso...</td>\n",
       "      <td>NaN</td>\n",
       "      <td>Sherlock Holmes: The Complete Novels and Stori...</td>\n",
       "      <td>1382832000</td>\n",
       "      <td>2013-10-27</td>\n",
       "    </tr>\n",
       "    <tr>\n",
       "      <th>553</th>\n",
       "      <td>A2RA52XTSPZB9Y</td>\n",
       "      <td>B000QCS8YM</td>\n",
       "      <td>Susandee</td>\n",
       "      <td>[0, 0]</td>\n",
       "      <td>The classics never go out of style. Sherlock a...</td>\n",
       "      <td>NaN</td>\n",
       "      <td>Great as always</td>\n",
       "      <td>1398124800</td>\n",
       "      <td>2014-04-22</td>\n",
       "    </tr>\n",
       "    <tr>\n",
       "      <th>718</th>\n",
       "      <td>A3VXGX6X6B63K</td>\n",
       "      <td>B000SRGF2W</td>\n",
       "      <td>NaN</td>\n",
       "      <td>[0, 0]</td>\n",
       "      <td>I won this book from Denise Agnew.  I liked it...</td>\n",
       "      <td>5.0</td>\n",
       "      <td>Nice surprise</td>\n",
       "      <td>1405468800</td>\n",
       "      <td>2014-07-16</td>\n",
       "    </tr>\n",
       "    <tr>\n",
       "      <th>943</th>\n",
       "      <td>A1RUGOMYCF8NF4</td>\n",
       "      <td>B000WSFBO0</td>\n",
       "      <td>Kindle Customer</td>\n",
       "      <td>[0, 0]</td>\n",
       "      <td>I enjoy elegant language. I appreciate good ed...</td>\n",
       "      <td>NaN</td>\n",
       "      <td>Elegant language</td>\n",
       "      <td>1393459200</td>\n",
       "      <td>2014-02-27</td>\n",
       "    </tr>\n",
       "    <tr>\n",
       "      <th>954</th>\n",
       "      <td>AIIY3MCW8VD74</td>\n",
       "      <td>B000WSFBO0</td>\n",
       "      <td>Sara Ruth Willingham</td>\n",
       "      <td>[0, 0]</td>\n",
       "      <td>This collection of stories was shockingly well...</td>\n",
       "      <td>NaN</td>\n",
       "      <td>Really good!</td>\n",
       "      <td>1393804800</td>\n",
       "      <td>2014-03-03</td>\n",
       "    </tr>\n",
       "  </tbody>\n",
       "</table>\n",
       "</div>"
      ],
      "text/plain": [
       "         reviewerID  product_id                      reviewerName   helpful  \\\n",
       "22   A1UG4Q4D3OAH3A  B000FA64QO                               dsa    [0, 0]   \n",
       "29   A2EN84QHDRZLP2  B000FBFMVG                        Carl craft    [0, 0]   \n",
       "63    AEC18J7P03ZBP  B000FC2MB8                           pigskin    [0, 0]   \n",
       "64    A39N0BN4B2Q7F  B000FDJ0FS  Amazoner \"reader, thinker, doer\"    [2, 9]   \n",
       "385  A2VQLTC61OV8U3  B000JQUTGK                               NaN    [0, 0]   \n",
       "549  A2Q49SE6Q1NVCQ  B000QCS8YM               David Wesley tonkin    [0, 0]   \n",
       "550   AXYFNRDTY33TU  B000QCS8YM         Josephnatdog \"Bookwormjr\"    [0, 0]   \n",
       "551  A295A2TPG8JJ7Y  B000QCS8YM                         Librarian  [21, 21]   \n",
       "552  A1M3NVR8A3O627  B000QCS8YM                           Stephen    [0, 0]   \n",
       "553  A2RA52XTSPZB9Y  B000QCS8YM                          Susandee    [0, 0]   \n",
       "718   A3VXGX6X6B63K  B000SRGF2W                               NaN    [0, 0]   \n",
       "943  A1RUGOMYCF8NF4  B000WSFBO0                   Kindle Customer    [0, 0]   \n",
       "954   AIIY3MCW8VD74  B000WSFBO0              Sara Ruth Willingham    [0, 0]   \n",
       "\n",
       "                                            reviewText  overall  \\\n",
       "22   Great book couldn't put it down.  The story ex...      NaN   \n",
       "29   Great short story. It gives a little more insi...      NaN   \n",
       "63   I look forward to getting to the next books, a...      NaN   \n",
       "64   He had an english accent which he seemed tryin...      NaN   \n",
       "385  Not very well written but historical details i...      4.0   \n",
       "549  There are not really enough superlatives ... o...      NaN   \n",
       "550  Adventure, thrills, action, great detection.  ...      NaN   \n",
       "551  This authorized 2-volume set (joined into one ...      NaN   \n",
       "552  Volume 1 of the Sherlock Holmes series is abso...      NaN   \n",
       "553  The classics never go out of style. Sherlock a...      NaN   \n",
       "718  I won this book from Denise Agnew.  I liked it...      5.0   \n",
       "943  I enjoy elegant language. I appreciate good ed...      NaN   \n",
       "954  This collection of stories was shockingly well...      NaN   \n",
       "\n",
       "                                               summary  unixReviewTime  \\\n",
       "22                                              Ylesia      1391472000   \n",
       "29                                        Another read      1388620800   \n",
       "63                     Also, exciting and descriptive.      1375142400   \n",
       "64   In was thinking of getting until I heard the c...      1386633600   \n",
       "385                                         Four Stars      1405555200   \n",
       "549                         Conan Doyle is the Master!      1392508800   \n",
       "550                                            Love it      1371513600   \n",
       "551  Absolute BEST Holmes set: 100% complete & perf...      1361664000   \n",
       "552  Sherlock Holmes: The Complete Novels and Stori...      1382832000   \n",
       "553                                    Great as always      1398124800   \n",
       "718                                      Nice surprise      1405468800   \n",
       "943                                   Elegant language      1393459200   \n",
       "954                                       Really good!      1393804800   \n",
       "\n",
       "    reviewTime  \n",
       "22  2014-02-04  \n",
       "29  2014-01-02  \n",
       "63  2013-07-30  \n",
       "64  2013-12-10  \n",
       "385 2014-07-17  \n",
       "549 2014-02-16  \n",
       "550 2013-06-18  \n",
       "551 2013-02-24  \n",
       "552 2013-10-27  \n",
       "553 2014-04-22  \n",
       "718 2014-07-16  \n",
       "943 2014-02-27  \n",
       "954 2014-03-03  "
      ]
     },
     "execution_count": 176,
     "metadata": {},
     "output_type": "execute_result"
    }
   ],
   "source": [
    "df[df.isna().any(axis=1)].head(13)"
   ]
  },
  {
   "cell_type": "code",
   "execution_count": 177,
   "metadata": {},
   "outputs": [],
   "source": [
    "noNames = df.loc[df.reviewerName.isna()]['reviewerID']"
   ]
  },
  {
   "cell_type": "code",
   "execution_count": 178,
   "metadata": {},
   "outputs": [
    {
     "data": {
      "text/html": [
       "<div>\n",
       "<style scoped>\n",
       "    .dataframe tbody tr th:only-of-type {\n",
       "        vertical-align: middle;\n",
       "    }\n",
       "\n",
       "    .dataframe tbody tr th {\n",
       "        vertical-align: top;\n",
       "    }\n",
       "\n",
       "    .dataframe thead th {\n",
       "        text-align: right;\n",
       "    }\n",
       "</style>\n",
       "<table border=\"1\" class=\"dataframe\">\n",
       "  <thead>\n",
       "    <tr style=\"text-align: right;\">\n",
       "      <th></th>\n",
       "      <th>reviewerID</th>\n",
       "      <th>product_id</th>\n",
       "      <th>reviewerName</th>\n",
       "      <th>helpful</th>\n",
       "      <th>reviewText</th>\n",
       "      <th>overall</th>\n",
       "      <th>summary</th>\n",
       "      <th>unixReviewTime</th>\n",
       "      <th>reviewTime</th>\n",
       "    </tr>\n",
       "  </thead>\n",
       "  <tbody>\n",
       "    <tr>\n",
       "      <th>385</th>\n",
       "      <td>A2VQLTC61OV8U3</td>\n",
       "      <td>B000JQUTGK</td>\n",
       "      <td>NaN</td>\n",
       "      <td>[0, 0]</td>\n",
       "      <td>Not very well written but historical details i...</td>\n",
       "      <td>4.0</td>\n",
       "      <td>Four Stars</td>\n",
       "      <td>1405555200</td>\n",
       "      <td>2014-07-17</td>\n",
       "    </tr>\n",
       "    <tr>\n",
       "      <th>718</th>\n",
       "      <td>A3VXGX6X6B63K</td>\n",
       "      <td>B000SRGF2W</td>\n",
       "      <td>NaN</td>\n",
       "      <td>[0, 0]</td>\n",
       "      <td>I won this book from Denise Agnew.  I liked it...</td>\n",
       "      <td>5.0</td>\n",
       "      <td>Nice surprise</td>\n",
       "      <td>1405468800</td>\n",
       "      <td>2014-07-16</td>\n",
       "    </tr>\n",
       "  </tbody>\n",
       "</table>\n",
       "</div>"
      ],
      "text/plain": [
       "         reviewerID  product_id reviewerName helpful  \\\n",
       "385  A2VQLTC61OV8U3  B000JQUTGK          NaN  [0, 0]   \n",
       "718   A3VXGX6X6B63K  B000SRGF2W          NaN  [0, 0]   \n",
       "\n",
       "                                            reviewText  overall  \\\n",
       "385  Not very well written but historical details i...      4.0   \n",
       "718  I won this book from Denise Agnew.  I liked it...      5.0   \n",
       "\n",
       "           summary  unixReviewTime reviewTime  \n",
       "385     Four Stars      1405555200 2014-07-17  \n",
       "718  Nice surprise      1405468800 2014-07-16  "
      ]
     },
     "execution_count": 178,
     "metadata": {},
     "output_type": "execute_result"
    }
   ],
   "source": [
    "df.loc[df.reviewerID.isin(noNames)]"
   ]
  },
  {
   "cell_type": "code",
   "execution_count": 179,
   "metadata": {},
   "outputs": [],
   "source": [
    "df.reviewerName = df.reviewerName.fillna('')"
   ]
  },
  {
   "cell_type": "code",
   "execution_count": 180,
   "metadata": {},
   "outputs": [],
   "source": [
    "group_by_product = df[['product_id','overall']].groupby('product_id')\n",
    "mean_overall_per_product = group_by_product.mean().rename(columns={'overall':'mean_product_overall'})\n",
    "min_overall_per_product = group_by_product.min().rename(columns={'overall':'max_product_overall'})\n",
    "max_overall_per_product = group_by_product.max().rename(columns={'overall':'min_product_overall'})"
   ]
  },
  {
   "cell_type": "code",
   "execution_count": 181,
   "metadata": {},
   "outputs": [
    {
     "data": {
      "text/html": [
       "<div>\n",
       "<style scoped>\n",
       "    .dataframe tbody tr th:only-of-type {\n",
       "        vertical-align: middle;\n",
       "    }\n",
       "\n",
       "    .dataframe tbody tr th {\n",
       "        vertical-align: top;\n",
       "    }\n",
       "\n",
       "    .dataframe thead th {\n",
       "        text-align: right;\n",
       "    }\n",
       "</style>\n",
       "<table border=\"1\" class=\"dataframe\">\n",
       "  <thead>\n",
       "    <tr style=\"text-align: right;\">\n",
       "      <th></th>\n",
       "      <th>mean_product_overall</th>\n",
       "    </tr>\n",
       "    <tr>\n",
       "      <th>product_id</th>\n",
       "      <th></th>\n",
       "    </tr>\n",
       "  </thead>\n",
       "  <tbody>\n",
       "    <tr>\n",
       "      <th>B000F83SZQ</th>\n",
       "      <td>4.250000</td>\n",
       "    </tr>\n",
       "    <tr>\n",
       "      <th>B000FA64PA</th>\n",
       "      <td>4.200000</td>\n",
       "    </tr>\n",
       "    <tr>\n",
       "      <th>B000FA64PK</th>\n",
       "      <td>4.375000</td>\n",
       "    </tr>\n",
       "    <tr>\n",
       "      <th>B000FA64QO</th>\n",
       "      <td>3.500000</td>\n",
       "    </tr>\n",
       "    <tr>\n",
       "      <th>B000FBFMVG</th>\n",
       "      <td>4.250000</td>\n",
       "    </tr>\n",
       "    <tr>\n",
       "      <th>...</th>\n",
       "      <td>...</td>\n",
       "    </tr>\n",
       "    <tr>\n",
       "      <th>B0015Z7VFG</th>\n",
       "      <td>3.882353</td>\n",
       "    </tr>\n",
       "    <tr>\n",
       "      <th>B0015Z7VFQ</th>\n",
       "      <td>3.833333</td>\n",
       "    </tr>\n",
       "    <tr>\n",
       "      <th>B0015Z7VWE</th>\n",
       "      <td>3.866667</td>\n",
       "    </tr>\n",
       "    <tr>\n",
       "      <th>B0015Z7WL4</th>\n",
       "      <td>3.388889</td>\n",
       "    </tr>\n",
       "    <tr>\n",
       "      <th>B00164WE1W</th>\n",
       "      <td>4.100000</td>\n",
       "    </tr>\n",
       "  </tbody>\n",
       "</table>\n",
       "<p>129 rows × 1 columns</p>\n",
       "</div>"
      ],
      "text/plain": [
       "            mean_product_overall\n",
       "product_id                      \n",
       "B000F83SZQ              4.250000\n",
       "B000FA64PA              4.200000\n",
       "B000FA64PK              4.375000\n",
       "B000FA64QO              3.500000\n",
       "B000FBFMVG              4.250000\n",
       "...                          ...\n",
       "B0015Z7VFG              3.882353\n",
       "B0015Z7VFQ              3.833333\n",
       "B0015Z7VWE              3.866667\n",
       "B0015Z7WL4              3.388889\n",
       "B00164WE1W              4.100000\n",
       "\n",
       "[129 rows x 1 columns]"
      ]
     },
     "execution_count": 181,
     "metadata": {},
     "output_type": "execute_result"
    }
   ],
   "source": [
    "mean_overall_per_product"
   ]
  },
  {
   "cell_type": "code",
   "execution_count": 182,
   "metadata": {},
   "outputs": [
    {
     "data": {
      "text/html": [
       "<div>\n",
       "<style scoped>\n",
       "    .dataframe tbody tr th:only-of-type {\n",
       "        vertical-align: middle;\n",
       "    }\n",
       "\n",
       "    .dataframe tbody tr th {\n",
       "        vertical-align: top;\n",
       "    }\n",
       "\n",
       "    .dataframe thead th {\n",
       "        text-align: right;\n",
       "    }\n",
       "</style>\n",
       "<table border=\"1\" class=\"dataframe\">\n",
       "  <thead>\n",
       "    <tr style=\"text-align: right;\">\n",
       "      <th></th>\n",
       "      <th>max_product_overall</th>\n",
       "    </tr>\n",
       "    <tr>\n",
       "      <th>product_id</th>\n",
       "      <th></th>\n",
       "    </tr>\n",
       "  </thead>\n",
       "  <tbody>\n",
       "    <tr>\n",
       "      <th>B000F83SZQ</th>\n",
       "      <td>4.0</td>\n",
       "    </tr>\n",
       "    <tr>\n",
       "      <th>B000FA64PA</th>\n",
       "      <td>3.0</td>\n",
       "    </tr>\n",
       "    <tr>\n",
       "      <th>B000FA64PK</th>\n",
       "      <td>3.0</td>\n",
       "    </tr>\n",
       "    <tr>\n",
       "      <th>B000FA64QO</th>\n",
       "      <td>2.0</td>\n",
       "    </tr>\n",
       "    <tr>\n",
       "      <th>B000FBFMVG</th>\n",
       "      <td>3.0</td>\n",
       "    </tr>\n",
       "    <tr>\n",
       "      <th>...</th>\n",
       "      <td>...</td>\n",
       "    </tr>\n",
       "    <tr>\n",
       "      <th>B0015Z7VFG</th>\n",
       "      <td>1.0</td>\n",
       "    </tr>\n",
       "    <tr>\n",
       "      <th>B0015Z7VFQ</th>\n",
       "      <td>1.0</td>\n",
       "    </tr>\n",
       "    <tr>\n",
       "      <th>B0015Z7VWE</th>\n",
       "      <td>1.0</td>\n",
       "    </tr>\n",
       "    <tr>\n",
       "      <th>B0015Z7WL4</th>\n",
       "      <td>1.0</td>\n",
       "    </tr>\n",
       "    <tr>\n",
       "      <th>B00164WE1W</th>\n",
       "      <td>1.0</td>\n",
       "    </tr>\n",
       "  </tbody>\n",
       "</table>\n",
       "<p>129 rows × 1 columns</p>\n",
       "</div>"
      ],
      "text/plain": [
       "            max_product_overall\n",
       "product_id                     \n",
       "B000F83SZQ                  4.0\n",
       "B000FA64PA                  3.0\n",
       "B000FA64PK                  3.0\n",
       "B000FA64QO                  2.0\n",
       "B000FBFMVG                  3.0\n",
       "...                         ...\n",
       "B0015Z7VFG                  1.0\n",
       "B0015Z7VFQ                  1.0\n",
       "B0015Z7VWE                  1.0\n",
       "B0015Z7WL4                  1.0\n",
       "B00164WE1W                  1.0\n",
       "\n",
       "[129 rows x 1 columns]"
      ]
     },
     "execution_count": 182,
     "metadata": {},
     "output_type": "execute_result"
    }
   ],
   "source": [
    "min_overall_per_product"
   ]
  },
  {
   "cell_type": "code",
   "execution_count": 183,
   "metadata": {},
   "outputs": [
    {
     "data": {
      "text/html": [
       "<div>\n",
       "<style scoped>\n",
       "    .dataframe tbody tr th:only-of-type {\n",
       "        vertical-align: middle;\n",
       "    }\n",
       "\n",
       "    .dataframe tbody tr th {\n",
       "        vertical-align: top;\n",
       "    }\n",
       "\n",
       "    .dataframe thead th {\n",
       "        text-align: right;\n",
       "    }\n",
       "</style>\n",
       "<table border=\"1\" class=\"dataframe\">\n",
       "  <thead>\n",
       "    <tr style=\"text-align: right;\">\n",
       "      <th></th>\n",
       "      <th>min_product_overall</th>\n",
       "    </tr>\n",
       "    <tr>\n",
       "      <th>product_id</th>\n",
       "      <th></th>\n",
       "    </tr>\n",
       "  </thead>\n",
       "  <tbody>\n",
       "    <tr>\n",
       "      <th>B000F83SZQ</th>\n",
       "      <td>5.0</td>\n",
       "    </tr>\n",
       "    <tr>\n",
       "      <th>B000FA64PA</th>\n",
       "      <td>5.0</td>\n",
       "    </tr>\n",
       "    <tr>\n",
       "      <th>B000FA64PK</th>\n",
       "      <td>5.0</td>\n",
       "    </tr>\n",
       "    <tr>\n",
       "      <th>B000FA64QO</th>\n",
       "      <td>5.0</td>\n",
       "    </tr>\n",
       "    <tr>\n",
       "      <th>B000FBFMVG</th>\n",
       "      <td>5.0</td>\n",
       "    </tr>\n",
       "    <tr>\n",
       "      <th>...</th>\n",
       "      <td>...</td>\n",
       "    </tr>\n",
       "    <tr>\n",
       "      <th>B0015Z7VFG</th>\n",
       "      <td>5.0</td>\n",
       "    </tr>\n",
       "    <tr>\n",
       "      <th>B0015Z7VFQ</th>\n",
       "      <td>5.0</td>\n",
       "    </tr>\n",
       "    <tr>\n",
       "      <th>B0015Z7VWE</th>\n",
       "      <td>5.0</td>\n",
       "    </tr>\n",
       "    <tr>\n",
       "      <th>B0015Z7WL4</th>\n",
       "      <td>5.0</td>\n",
       "    </tr>\n",
       "    <tr>\n",
       "      <th>B00164WE1W</th>\n",
       "      <td>5.0</td>\n",
       "    </tr>\n",
       "  </tbody>\n",
       "</table>\n",
       "<p>129 rows × 1 columns</p>\n",
       "</div>"
      ],
      "text/plain": [
       "            min_product_overall\n",
       "product_id                     \n",
       "B000F83SZQ                  5.0\n",
       "B000FA64PA                  5.0\n",
       "B000FA64PK                  5.0\n",
       "B000FA64QO                  5.0\n",
       "B000FBFMVG                  5.0\n",
       "...                         ...\n",
       "B0015Z7VFG                  5.0\n",
       "B0015Z7VFQ                  5.0\n",
       "B0015Z7VWE                  5.0\n",
       "B0015Z7WL4                  5.0\n",
       "B00164WE1W                  5.0\n",
       "\n",
       "[129 rows x 1 columns]"
      ]
     },
     "execution_count": 183,
     "metadata": {},
     "output_type": "execute_result"
    }
   ],
   "source": [
    "max_overall_per_product"
   ]
  },
  {
   "cell_type": "code",
   "execution_count": 184,
   "metadata": {},
   "outputs": [
    {
     "data": {
      "text/html": [
       "<div>\n",
       "<style scoped>\n",
       "    .dataframe tbody tr th:only-of-type {\n",
       "        vertical-align: middle;\n",
       "    }\n",
       "\n",
       "    .dataframe tbody tr th {\n",
       "        vertical-align: top;\n",
       "    }\n",
       "\n",
       "    .dataframe thead th {\n",
       "        text-align: right;\n",
       "    }\n",
       "</style>\n",
       "<table border=\"1\" class=\"dataframe\">\n",
       "  <thead>\n",
       "    <tr style=\"text-align: right;\">\n",
       "      <th></th>\n",
       "      <th>reviewerID</th>\n",
       "      <th>product_id</th>\n",
       "      <th>reviewerName</th>\n",
       "      <th>helpful</th>\n",
       "      <th>reviewText</th>\n",
       "      <th>overall</th>\n",
       "      <th>summary</th>\n",
       "      <th>unixReviewTime</th>\n",
       "      <th>reviewTime</th>\n",
       "    </tr>\n",
       "  </thead>\n",
       "  <tbody>\n",
       "    <tr>\n",
       "      <th>549</th>\n",
       "      <td>A2Q49SE6Q1NVCQ</td>\n",
       "      <td>B000QCS8YM</td>\n",
       "      <td>David Wesley tonkin</td>\n",
       "      <td>[0, 0]</td>\n",
       "      <td>There are not really enough superlatives ... o...</td>\n",
       "      <td>NaN</td>\n",
       "      <td>Conan Doyle is the Master!</td>\n",
       "      <td>1392508800</td>\n",
       "      <td>2014-02-16</td>\n",
       "    </tr>\n",
       "    <tr>\n",
       "      <th>550</th>\n",
       "      <td>AXYFNRDTY33TU</td>\n",
       "      <td>B000QCS8YM</td>\n",
       "      <td>Josephnatdog \"Bookwormjr\"</td>\n",
       "      <td>[0, 0]</td>\n",
       "      <td>Adventure, thrills, action, great detection.  ...</td>\n",
       "      <td>NaN</td>\n",
       "      <td>Love it</td>\n",
       "      <td>1371513600</td>\n",
       "      <td>2013-06-18</td>\n",
       "    </tr>\n",
       "    <tr>\n",
       "      <th>551</th>\n",
       "      <td>A295A2TPG8JJ7Y</td>\n",
       "      <td>B000QCS8YM</td>\n",
       "      <td>Librarian</td>\n",
       "      <td>[21, 21]</td>\n",
       "      <td>This authorized 2-volume set (joined into one ...</td>\n",
       "      <td>NaN</td>\n",
       "      <td>Absolute BEST Holmes set: 100% complete &amp; perf...</td>\n",
       "      <td>1361664000</td>\n",
       "      <td>2013-02-24</td>\n",
       "    </tr>\n",
       "    <tr>\n",
       "      <th>552</th>\n",
       "      <td>A1M3NVR8A3O627</td>\n",
       "      <td>B000QCS8YM</td>\n",
       "      <td>Stephen</td>\n",
       "      <td>[0, 0]</td>\n",
       "      <td>Volume 1 of the Sherlock Holmes series is abso...</td>\n",
       "      <td>NaN</td>\n",
       "      <td>Sherlock Holmes: The Complete Novels and Stori...</td>\n",
       "      <td>1382832000</td>\n",
       "      <td>2013-10-27</td>\n",
       "    </tr>\n",
       "    <tr>\n",
       "      <th>553</th>\n",
       "      <td>A2RA52XTSPZB9Y</td>\n",
       "      <td>B000QCS8YM</td>\n",
       "      <td>Susandee</td>\n",
       "      <td>[0, 0]</td>\n",
       "      <td>The classics never go out of style. Sherlock a...</td>\n",
       "      <td>NaN</td>\n",
       "      <td>Great as always</td>\n",
       "      <td>1398124800</td>\n",
       "      <td>2014-04-22</td>\n",
       "    </tr>\n",
       "  </tbody>\n",
       "</table>\n",
       "</div>"
      ],
      "text/plain": [
       "         reviewerID  product_id               reviewerName   helpful  \\\n",
       "549  A2Q49SE6Q1NVCQ  B000QCS8YM        David Wesley tonkin    [0, 0]   \n",
       "550   AXYFNRDTY33TU  B000QCS8YM  Josephnatdog \"Bookwormjr\"    [0, 0]   \n",
       "551  A295A2TPG8JJ7Y  B000QCS8YM                  Librarian  [21, 21]   \n",
       "552  A1M3NVR8A3O627  B000QCS8YM                    Stephen    [0, 0]   \n",
       "553  A2RA52XTSPZB9Y  B000QCS8YM                   Susandee    [0, 0]   \n",
       "\n",
       "                                            reviewText  overall  \\\n",
       "549  There are not really enough superlatives ... o...      NaN   \n",
       "550  Adventure, thrills, action, great detection.  ...      NaN   \n",
       "551  This authorized 2-volume set (joined into one ...      NaN   \n",
       "552  Volume 1 of the Sherlock Holmes series is abso...      NaN   \n",
       "553  The classics never go out of style. Sherlock a...      NaN   \n",
       "\n",
       "                                               summary  unixReviewTime  \\\n",
       "549                         Conan Doyle is the Master!      1392508800   \n",
       "550                                            Love it      1371513600   \n",
       "551  Absolute BEST Holmes set: 100% complete & perf...      1361664000   \n",
       "552  Sherlock Holmes: The Complete Novels and Stori...      1382832000   \n",
       "553                                    Great as always      1398124800   \n",
       "\n",
       "    reviewTime  \n",
       "549 2014-02-16  \n",
       "550 2013-06-18  \n",
       "551 2013-02-24  \n",
       "552 2013-10-27  \n",
       "553 2014-04-22  "
      ]
     },
     "execution_count": 184,
     "metadata": {},
     "output_type": "execute_result"
    }
   ],
   "source": [
    "merged_df = pd.merge(df, mean_overall_per_product, on='product_id')\n",
    "merged_df['overall'].fillna(merged_df['mean_product_overall'].round(), inplace=True)\n",
    "merged_df.drop(columns=['mean_product_overall'],inplace=True)\n",
    "df = merged_df\n",
    "df[df.isna().any(axis=1)]"
   ]
  },
  {
   "cell_type": "code",
   "execution_count": 185,
   "metadata": {},
   "outputs": [
    {
     "data": {
      "text/html": [
       "<div>\n",
       "<style scoped>\n",
       "    .dataframe tbody tr th:only-of-type {\n",
       "        vertical-align: middle;\n",
       "    }\n",
       "\n",
       "    .dataframe tbody tr th {\n",
       "        vertical-align: top;\n",
       "    }\n",
       "\n",
       "    .dataframe thead th {\n",
       "        text-align: right;\n",
       "    }\n",
       "</style>\n",
       "<table border=\"1\" class=\"dataframe\">\n",
       "  <thead>\n",
       "    <tr style=\"text-align: right;\">\n",
       "      <th></th>\n",
       "      <th>reviewerID</th>\n",
       "      <th>product_id</th>\n",
       "      <th>reviewerName</th>\n",
       "      <th>helpful</th>\n",
       "      <th>reviewText</th>\n",
       "      <th>overall</th>\n",
       "      <th>summary</th>\n",
       "      <th>unixReviewTime</th>\n",
       "      <th>reviewTime</th>\n",
       "    </tr>\n",
       "  </thead>\n",
       "  <tbody>\n",
       "    <tr>\n",
       "      <th>549</th>\n",
       "      <td>A2Q49SE6Q1NVCQ</td>\n",
       "      <td>B000QCS8YM</td>\n",
       "      <td>David Wesley tonkin</td>\n",
       "      <td>[0, 0]</td>\n",
       "      <td>There are not really enough superlatives ... o...</td>\n",
       "      <td>NaN</td>\n",
       "      <td>Conan Doyle is the Master!</td>\n",
       "      <td>1392508800</td>\n",
       "      <td>2014-02-16</td>\n",
       "    </tr>\n",
       "    <tr>\n",
       "      <th>550</th>\n",
       "      <td>AXYFNRDTY33TU</td>\n",
       "      <td>B000QCS8YM</td>\n",
       "      <td>Josephnatdog \"Bookwormjr\"</td>\n",
       "      <td>[0, 0]</td>\n",
       "      <td>Adventure, thrills, action, great detection.  ...</td>\n",
       "      <td>NaN</td>\n",
       "      <td>Love it</td>\n",
       "      <td>1371513600</td>\n",
       "      <td>2013-06-18</td>\n",
       "    </tr>\n",
       "    <tr>\n",
       "      <th>551</th>\n",
       "      <td>A295A2TPG8JJ7Y</td>\n",
       "      <td>B000QCS8YM</td>\n",
       "      <td>Librarian</td>\n",
       "      <td>[21, 21]</td>\n",
       "      <td>This authorized 2-volume set (joined into one ...</td>\n",
       "      <td>NaN</td>\n",
       "      <td>Absolute BEST Holmes set: 100% complete &amp; perf...</td>\n",
       "      <td>1361664000</td>\n",
       "      <td>2013-02-24</td>\n",
       "    </tr>\n",
       "    <tr>\n",
       "      <th>552</th>\n",
       "      <td>A1M3NVR8A3O627</td>\n",
       "      <td>B000QCS8YM</td>\n",
       "      <td>Stephen</td>\n",
       "      <td>[0, 0]</td>\n",
       "      <td>Volume 1 of the Sherlock Holmes series is abso...</td>\n",
       "      <td>NaN</td>\n",
       "      <td>Sherlock Holmes: The Complete Novels and Stori...</td>\n",
       "      <td>1382832000</td>\n",
       "      <td>2013-10-27</td>\n",
       "    </tr>\n",
       "    <tr>\n",
       "      <th>553</th>\n",
       "      <td>A2RA52XTSPZB9Y</td>\n",
       "      <td>B000QCS8YM</td>\n",
       "      <td>Susandee</td>\n",
       "      <td>[0, 0]</td>\n",
       "      <td>The classics never go out of style. Sherlock a...</td>\n",
       "      <td>NaN</td>\n",
       "      <td>Great as always</td>\n",
       "      <td>1398124800</td>\n",
       "      <td>2014-04-22</td>\n",
       "    </tr>\n",
       "  </tbody>\n",
       "</table>\n",
       "</div>"
      ],
      "text/plain": [
       "         reviewerID  product_id               reviewerName   helpful  \\\n",
       "549  A2Q49SE6Q1NVCQ  B000QCS8YM        David Wesley tonkin    [0, 0]   \n",
       "550   AXYFNRDTY33TU  B000QCS8YM  Josephnatdog \"Bookwormjr\"    [0, 0]   \n",
       "551  A295A2TPG8JJ7Y  B000QCS8YM                  Librarian  [21, 21]   \n",
       "552  A1M3NVR8A3O627  B000QCS8YM                    Stephen    [0, 0]   \n",
       "553  A2RA52XTSPZB9Y  B000QCS8YM                   Susandee    [0, 0]   \n",
       "\n",
       "                                            reviewText  overall  \\\n",
       "549  There are not really enough superlatives ... o...      NaN   \n",
       "550  Adventure, thrills, action, great detection.  ...      NaN   \n",
       "551  This authorized 2-volume set (joined into one ...      NaN   \n",
       "552  Volume 1 of the Sherlock Holmes series is abso...      NaN   \n",
       "553  The classics never go out of style. Sherlock a...      NaN   \n",
       "\n",
       "                                               summary  unixReviewTime  \\\n",
       "549                         Conan Doyle is the Master!      1392508800   \n",
       "550                                            Love it      1371513600   \n",
       "551  Absolute BEST Holmes set: 100% complete & perf...      1361664000   \n",
       "552  Sherlock Holmes: The Complete Novels and Stori...      1382832000   \n",
       "553                                    Great as always      1398124800   \n",
       "\n",
       "    reviewTime  \n",
       "549 2014-02-16  \n",
       "550 2013-06-18  \n",
       "551 2013-02-24  \n",
       "552 2013-10-27  \n",
       "553 2014-04-22  "
      ]
     },
     "execution_count": 185,
     "metadata": {},
     "output_type": "execute_result"
    }
   ],
   "source": [
    "df.query('product_id == \"B000QCS8YM\"')"
   ]
  },
  {
   "cell_type": "code",
   "execution_count": 186,
   "metadata": {},
   "outputs": [
    {
     "name": "stdout",
     "output_type": "stream",
     "text": [
      "<class 'pandas.core.frame.DataFrame'>\n",
      "Int64Index: 1386 entries, 0 to 1385\n",
      "Data columns (total 9 columns):\n",
      " #   Column          Non-Null Count  Dtype         \n",
      "---  ------          --------------  -----         \n",
      " 0   reviewerID      1386 non-null   object        \n",
      " 1   product_id      1386 non-null   object        \n",
      " 2   reviewerName    1386 non-null   object        \n",
      " 3   helpful         1386 non-null   object        \n",
      " 4   reviewText      1386 non-null   object        \n",
      " 5   overall         1381 non-null   float64       \n",
      " 6   summary         1386 non-null   object        \n",
      " 7   unixReviewTime  1386 non-null   int64         \n",
      " 8   reviewTime      1386 non-null   datetime64[ns]\n",
      "dtypes: datetime64[ns](1), float64(1), int64(1), object(6)\n",
      "memory usage: 108.3+ KB\n"
     ]
    }
   ],
   "source": [
    "df.info(verbose=1)"
   ]
  },
  {
   "cell_type": "code",
   "execution_count": 187,
   "metadata": {},
   "outputs": [
    {
     "data": {
      "text/plain": [
       "129"
      ]
     },
     "execution_count": 187,
     "metadata": {},
     "output_type": "execute_result"
    }
   ],
   "source": [
    "unique_products = df.product_id.nunique()\n",
    "unique_products"
   ]
  },
  {
   "cell_type": "code",
   "execution_count": 188,
   "metadata": {},
   "outputs": [
    {
     "data": {
      "text/plain": [
       "1131"
      ]
     },
     "execution_count": 188,
     "metadata": {},
     "output_type": "execute_result"
    }
   ],
   "source": [
    "unique_reviewer = df.reviewerID.nunique()\n",
    "unique_reviewer"
   ]
  },
  {
   "cell_type": "code",
   "execution_count": 189,
   "metadata": {},
   "outputs": [
    {
     "data": {
      "text/plain": [
       "'B000JMLBHU'"
      ]
     },
     "execution_count": 189,
     "metadata": {},
     "output_type": "execute_result"
    }
   ],
   "source": [
    "df['product_id'].value_counts().idxmax()"
   ]
  },
  {
   "cell_type": "code",
   "execution_count": 190,
   "metadata": {},
   "outputs": [
    {
     "data": {
      "text/plain": [
       "'A320TMDV6KCFU'"
      ]
     },
     "execution_count": 190,
     "metadata": {},
     "output_type": "execute_result"
    }
   ],
   "source": [
    "highest_reviewer = df['reviewerID'].value_counts().idxmax()\n",
    "highest_reviewer"
   ]
  },
  {
   "cell_type": "code",
   "execution_count": 191,
   "metadata": {},
   "outputs": [
    {
     "data": {
      "text/html": [
       "<div>\n",
       "<style scoped>\n",
       "    .dataframe tbody tr th:only-of-type {\n",
       "        vertical-align: middle;\n",
       "    }\n",
       "\n",
       "    .dataframe tbody tr th {\n",
       "        vertical-align: top;\n",
       "    }\n",
       "\n",
       "    .dataframe thead th {\n",
       "        text-align: right;\n",
       "    }\n",
       "</style>\n",
       "<table border=\"1\" class=\"dataframe\">\n",
       "  <thead>\n",
       "    <tr style=\"text-align: right;\">\n",
       "      <th></th>\n",
       "      <th>reviewerID</th>\n",
       "      <th>product_id</th>\n",
       "      <th>reviewerName</th>\n",
       "      <th>helpful</th>\n",
       "      <th>reviewText</th>\n",
       "      <th>overall</th>\n",
       "      <th>summary</th>\n",
       "      <th>unixReviewTime</th>\n",
       "      <th>reviewTime</th>\n",
       "    </tr>\n",
       "  </thead>\n",
       "  <tbody>\n",
       "    <tr>\n",
       "      <th>1133</th>\n",
       "      <td>A320TMDV6KCFU</td>\n",
       "      <td>B0012W11BM</td>\n",
       "      <td>MNix</td>\n",
       "      <td>[5, 5]</td>\n",
       "      <td>Federal Judge Jackson Benedict is trying a cas...</td>\n",
       "      <td>4.0</td>\n",
       "      <td>Court Appointed</td>\n",
       "      <td>1210118400</td>\n",
       "      <td>2008-05-07</td>\n",
       "    </tr>\n",
       "  </tbody>\n",
       "</table>\n",
       "</div>"
      ],
      "text/plain": [
       "         reviewerID  product_id reviewerName helpful  \\\n",
       "1133  A320TMDV6KCFU  B0012W11BM         MNix  [5, 5]   \n",
       "\n",
       "                                             reviewText  overall  \\\n",
       "1133  Federal Judge Jackson Benedict is trying a cas...      4.0   \n",
       "\n",
       "              summary  unixReviewTime reviewTime  \n",
       "1133  Court Appointed      1210118400 2008-05-07  "
      ]
     },
     "execution_count": 191,
     "metadata": {},
     "output_type": "execute_result"
    }
   ],
   "source": [
    "df.loc[df['reviewerID'] == highest_reviewer].nsmallest(1,'overall')"
   ]
  },
  {
   "cell_type": "code",
   "execution_count": 192,
   "metadata": {},
   "outputs": [
    {
     "data": {
      "text/plain": [
       "5"
      ]
     },
     "execution_count": 192,
     "metadata": {},
     "output_type": "execute_result"
    }
   ],
   "source": [
    "df['reviewerID'].value_counts()[df['reviewerID'].value_counts() > 5].count()"
   ]
  },
  {
   "cell_type": "code",
   "execution_count": 193,
   "metadata": {},
   "outputs": [
    {
     "data": {
      "text/plain": [
       "79           Amazon Customer \"EmanEkaf\"\n",
       "81     Amazoner \"reader, thinker, doer\"\n",
       "86                        Douglas Banks\n",
       "100                          Tyme4abook\n",
       "Name: reviewerName, dtype: object"
      ]
     },
     "execution_count": 193,
     "metadata": {},
     "output_type": "execute_result"
    }
   ],
   "source": [
    "df.loc[(df.product_id == 'B000GFK7L6') & (df.overall == 1)]['reviewerName']"
   ]
  },
  {
   "cell_type": "code",
   "execution_count": 194,
   "metadata": {},
   "outputs": [],
   "source": [
    "df['days_since_review'] = (pd.to_datetime(\"today\") - df.reviewTime).dt.days"
   ]
  },
  {
   "cell_type": "code",
   "execution_count": 195,
   "metadata": {},
   "outputs": [],
   "source": [
    "help_arr = []\n",
    "for h in df.helpful:\n",
    "    help_arr.append(h[0] >= h[1]*0.5)\n",
    "df['helpfull_bool'] = help_arr"
   ]
  },
  {
   "cell_type": "code",
   "execution_count": 196,
   "metadata": {},
   "outputs": [
    {
     "data": {
      "text/html": [
       "<div>\n",
       "<style scoped>\n",
       "    .dataframe tbody tr th:only-of-type {\n",
       "        vertical-align: middle;\n",
       "    }\n",
       "\n",
       "    .dataframe tbody tr th {\n",
       "        vertical-align: top;\n",
       "    }\n",
       "\n",
       "    .dataframe thead th {\n",
       "        text-align: right;\n",
       "    }\n",
       "</style>\n",
       "<table border=\"1\" class=\"dataframe\">\n",
       "  <thead>\n",
       "    <tr style=\"text-align: right;\">\n",
       "      <th></th>\n",
       "      <th>reviewerID</th>\n",
       "      <th>product_id</th>\n",
       "      <th>reviewerName</th>\n",
       "      <th>helpful</th>\n",
       "      <th>reviewText</th>\n",
       "      <th>overall</th>\n",
       "      <th>summary</th>\n",
       "      <th>unixReviewTime</th>\n",
       "      <th>reviewTime</th>\n",
       "      <th>days_since_review</th>\n",
       "      <th>helpfull_bool</th>\n",
       "    </tr>\n",
       "  </thead>\n",
       "  <tbody>\n",
       "    <tr>\n",
       "      <th>0</th>\n",
       "      <td>A1F6404F1VG29J</td>\n",
       "      <td>B000F83SZQ</td>\n",
       "      <td>Avidreader</td>\n",
       "      <td>[0, 0]</td>\n",
       "      <td>I enjoy vintage books and movies so I enjoyed ...</td>\n",
       "      <td>5.0</td>\n",
       "      <td>Nice vintage story</td>\n",
       "      <td>1399248000</td>\n",
       "      <td>2014-05-05</td>\n",
       "      <td>3212</td>\n",
       "      <td>True</td>\n",
       "    </tr>\n",
       "    <tr>\n",
       "      <th>1</th>\n",
       "      <td>AN0N05A9LIJEQ</td>\n",
       "      <td>B000F83SZQ</td>\n",
       "      <td>critters</td>\n",
       "      <td>[2, 2]</td>\n",
       "      <td>This book is a reissue of an old one; the auth...</td>\n",
       "      <td>4.0</td>\n",
       "      <td>Different...</td>\n",
       "      <td>1388966400</td>\n",
       "      <td>2014-01-06</td>\n",
       "      <td>3331</td>\n",
       "      <td>True</td>\n",
       "    </tr>\n",
       "    <tr>\n",
       "      <th>2</th>\n",
       "      <td>A795DMNCJILA6</td>\n",
       "      <td>B000F83SZQ</td>\n",
       "      <td>dot</td>\n",
       "      <td>[2, 2]</td>\n",
       "      <td>This was a fairly interesting read.  It had ol...</td>\n",
       "      <td>4.0</td>\n",
       "      <td>Oldie</td>\n",
       "      <td>1396569600</td>\n",
       "      <td>2014-04-04</td>\n",
       "      <td>3243</td>\n",
       "      <td>True</td>\n",
       "    </tr>\n",
       "    <tr>\n",
       "      <th>3</th>\n",
       "      <td>A1FV0SX13TWVXQ</td>\n",
       "      <td>B000F83SZQ</td>\n",
       "      <td>Elaine H. Turley \"Montana Songbird\"</td>\n",
       "      <td>[1, 1]</td>\n",
       "      <td>I'd never read any of the Amy Brewster mysteri...</td>\n",
       "      <td>5.0</td>\n",
       "      <td>I really liked it.</td>\n",
       "      <td>1392768000</td>\n",
       "      <td>2014-02-19</td>\n",
       "      <td>3287</td>\n",
       "      <td>True</td>\n",
       "    </tr>\n",
       "    <tr>\n",
       "      <th>4</th>\n",
       "      <td>A3SPTOKDG7WBLN</td>\n",
       "      <td>B000F83SZQ</td>\n",
       "      <td>Father Dowling Fan</td>\n",
       "      <td>[0, 1]</td>\n",
       "      <td>If you like period pieces - clothing, lingo, y...</td>\n",
       "      <td>4.0</td>\n",
       "      <td>Period Mystery</td>\n",
       "      <td>1395187200</td>\n",
       "      <td>2014-03-19</td>\n",
       "      <td>3259</td>\n",
       "      <td>False</td>\n",
       "    </tr>\n",
       "    <tr>\n",
       "      <th>...</th>\n",
       "      <td>...</td>\n",
       "      <td>...</td>\n",
       "      <td>...</td>\n",
       "      <td>...</td>\n",
       "      <td>...</td>\n",
       "      <td>...</td>\n",
       "      <td>...</td>\n",
       "      <td>...</td>\n",
       "      <td>...</td>\n",
       "      <td>...</td>\n",
       "      <td>...</td>\n",
       "    </tr>\n",
       "    <tr>\n",
       "      <th>1381</th>\n",
       "      <td>A2HZ1PF9CF38DB</td>\n",
       "      <td>B00164WE1W</td>\n",
       "      <td>Hollie</td>\n",
       "      <td>[2, 2]</td>\n",
       "      <td>This story was a great quick read...it has mis...</td>\n",
       "      <td>5.0</td>\n",
       "      <td>a Great quick read!</td>\n",
       "      <td>1357084800</td>\n",
       "      <td>2013-01-02</td>\n",
       "      <td>3700</td>\n",
       "      <td>True</td>\n",
       "    </tr>\n",
       "    <tr>\n",
       "      <th>1382</th>\n",
       "      <td>A1SXKUJKM8JFPG</td>\n",
       "      <td>B00164WE1W</td>\n",
       "      <td>kimberlyindy</td>\n",
       "      <td>[0, 0]</td>\n",
       "      <td>I love to read Novellas when I am running shor...</td>\n",
       "      <td>5.0</td>\n",
       "      <td>Wish it was longer.......</td>\n",
       "      <td>1356393600</td>\n",
       "      <td>2012-12-25</td>\n",
       "      <td>3708</td>\n",
       "      <td>True</td>\n",
       "    </tr>\n",
       "    <tr>\n",
       "      <th>1383</th>\n",
       "      <td>A388AC8UPUGOUB</td>\n",
       "      <td>B00164WE1W</td>\n",
       "      <td>mengel2</td>\n",
       "      <td>[0, 0]</td>\n",
       "      <td>I love reading mini novels and you can't go wr...</td>\n",
       "      <td>5.0</td>\n",
       "      <td>A Heart-warming Story</td>\n",
       "      <td>1356480000</td>\n",
       "      <td>2012-12-26</td>\n",
       "      <td>3707</td>\n",
       "      <td>True</td>\n",
       "    </tr>\n",
       "    <tr>\n",
       "      <th>1384</th>\n",
       "      <td>A3HMXAY912371K</td>\n",
       "      <td>B00164WE1W</td>\n",
       "      <td>Monica Tillery</td>\n",
       "      <td>[0, 0]</td>\n",
       "      <td>I don't know how she did it, but Jane Porter m...</td>\n",
       "      <td>5.0</td>\n",
       "      <td>Short, Sweet, and Heartwarming</td>\n",
       "      <td>1356652800</td>\n",
       "      <td>2012-12-28</td>\n",
       "      <td>3705</td>\n",
       "      <td>True</td>\n",
       "    </tr>\n",
       "    <tr>\n",
       "      <th>1385</th>\n",
       "      <td>A1J4ZZVGTNBQFE</td>\n",
       "      <td>B00164WE1W</td>\n",
       "      <td>Rosemary</td>\n",
       "      <td>[2, 2]</td>\n",
       "      <td>This mini-novel was a romantic read with a HEA...</td>\n",
       "      <td>5.0</td>\n",
       "      <td>Their Love was Fated</td>\n",
       "      <td>1356998400</td>\n",
       "      <td>2013-01-01</td>\n",
       "      <td>3701</td>\n",
       "      <td>True</td>\n",
       "    </tr>\n",
       "  </tbody>\n",
       "</table>\n",
       "<p>1386 rows × 11 columns</p>\n",
       "</div>"
      ],
      "text/plain": [
       "          reviewerID  product_id                         reviewerName helpful  \\\n",
       "0     A1F6404F1VG29J  B000F83SZQ                           Avidreader  [0, 0]   \n",
       "1      AN0N05A9LIJEQ  B000F83SZQ                             critters  [2, 2]   \n",
       "2      A795DMNCJILA6  B000F83SZQ                                  dot  [2, 2]   \n",
       "3     A1FV0SX13TWVXQ  B000F83SZQ  Elaine H. Turley \"Montana Songbird\"  [1, 1]   \n",
       "4     A3SPTOKDG7WBLN  B000F83SZQ                   Father Dowling Fan  [0, 1]   \n",
       "...              ...         ...                                  ...     ...   \n",
       "1381  A2HZ1PF9CF38DB  B00164WE1W                               Hollie  [2, 2]   \n",
       "1382  A1SXKUJKM8JFPG  B00164WE1W                         kimberlyindy  [0, 0]   \n",
       "1383  A388AC8UPUGOUB  B00164WE1W                              mengel2  [0, 0]   \n",
       "1384  A3HMXAY912371K  B00164WE1W                       Monica Tillery  [0, 0]   \n",
       "1385  A1J4ZZVGTNBQFE  B00164WE1W                             Rosemary  [2, 2]   \n",
       "\n",
       "                                             reviewText  overall  \\\n",
       "0     I enjoy vintage books and movies so I enjoyed ...      5.0   \n",
       "1     This book is a reissue of an old one; the auth...      4.0   \n",
       "2     This was a fairly interesting read.  It had ol...      4.0   \n",
       "3     I'd never read any of the Amy Brewster mysteri...      5.0   \n",
       "4     If you like period pieces - clothing, lingo, y...      4.0   \n",
       "...                                                 ...      ...   \n",
       "1381  This story was a great quick read...it has mis...      5.0   \n",
       "1382  I love to read Novellas when I am running shor...      5.0   \n",
       "1383  I love reading mini novels and you can't go wr...      5.0   \n",
       "1384  I don't know how she did it, but Jane Porter m...      5.0   \n",
       "1385  This mini-novel was a romantic read with a HEA...      5.0   \n",
       "\n",
       "                             summary  unixReviewTime reviewTime  \\\n",
       "0                 Nice vintage story      1399248000 2014-05-05   \n",
       "1                       Different...      1388966400 2014-01-06   \n",
       "2                              Oldie      1396569600 2014-04-04   \n",
       "3                 I really liked it.      1392768000 2014-02-19   \n",
       "4                     Period Mystery      1395187200 2014-03-19   \n",
       "...                              ...             ...        ...   \n",
       "1381             a Great quick read!      1357084800 2013-01-02   \n",
       "1382       Wish it was longer.......      1356393600 2012-12-25   \n",
       "1383           A Heart-warming Story      1356480000 2012-12-26   \n",
       "1384  Short, Sweet, and Heartwarming      1356652800 2012-12-28   \n",
       "1385            Their Love was Fated      1356998400 2013-01-01   \n",
       "\n",
       "      days_since_review  helpfull_bool  \n",
       "0                  3212           True  \n",
       "1                  3331           True  \n",
       "2                  3243           True  \n",
       "3                  3287           True  \n",
       "4                  3259          False  \n",
       "...                 ...            ...  \n",
       "1381               3700           True  \n",
       "1382               3708           True  \n",
       "1383               3707           True  \n",
       "1384               3705           True  \n",
       "1385               3701           True  \n",
       "\n",
       "[1386 rows x 11 columns]"
      ]
     },
     "execution_count": 196,
     "metadata": {},
     "output_type": "execute_result"
    }
   ],
   "source": [
    "df"
   ]
  },
  {
   "cell_type": "code",
   "execution_count": 197,
   "metadata": {},
   "outputs": [],
   "source": [
    "df.reset_index(inplace=True)"
   ]
  },
  {
   "cell_type": "code",
   "execution_count": 212,
   "metadata": {},
   "outputs": [],
   "source": [
    "from transformers import AutoTokenizer, AutoModelForSequenceClassification\n",
    "from scipy.special import softmax\n",
    "from tqdm import tqdm\n",
    "from sklearn.metrics import mean_squared_error, mean_absolute_error\n"
   ]
  },
  {
   "cell_type": "code",
   "execution_count": 199,
   "metadata": {},
   "outputs": [],
   "source": [
    "MODEL= f\"cardiffnlp/twitter-roberta-base-sentiment\"\n",
    "tokenizer = AutoTokenizer.from_pretrained(MODEL)\n",
    "model = AutoModelForSequenceClassification.from_pretrained(MODEL)"
   ]
  },
  {
   "cell_type": "code",
   "execution_count": 200,
   "metadata": {},
   "outputs": [
    {
     "data": {
      "text/plain": [
       "\"Hailey Jennison was uncomfortable with her body, and had always been shy because of it.  She had developed early, and had to constantly deal with unwanted attention from men.  She didn't go out very often, but did enjoy getting together with her friends on Friday nights.  They had recently become obsessed with a neighbor that provided an exciting sideshow for them.  He is a construction worker named Gage Warren with an incredibly sculpted body he didn't mind showing them frequently.  One night when Gage caught them looking in his windows, they scattered, but not fast enough because before she knew it Hailey had been dragged to his apartment.  He had been attracted to Hailey from the first moment he saw her, and now that he saw his chance, he was going to take it.After they had been together a couple of weeks, Hailey finally told him what he had known all along.  She was afraid he would leave if they didn't have sex, and equated it to her dad leaving her when she was just a small child.  Gage couldn't believe she didn't get it.  He was completely in love with her, and now he just had to get her to believe it.  There was no way he would let her get away.Gage and Hailey are a fun couple.  Hailey has a lot of issues to work out, but Gage loves her and is willing to wait as long as it takes so they can be together forever.  His family is also priceless.  Most people have meddlesome family members, but the fact that two of his work in the mental health field, make the dynamics even more comical since they feel compelled to constantly give advice.\""
      ]
     },
     "execution_count": 200,
     "metadata": {},
     "output_type": "execute_result"
    }
   ],
   "source": [
    "example = df.sample(1).reviewText.values[0]\n",
    "example"
   ]
  },
  {
   "cell_type": "code",
   "execution_count": 201,
   "metadata": {},
   "outputs": [],
   "source": [
    "def polarity_scores(example):\n",
    "    encoded_text = tokenizer(example, return_tensors='pt')\n",
    "    output = model(**encoded_text)\n",
    "    scores = output[0][0].detach().numpy()\n",
    "    scores = softmax(scores)\n",
    "    scores_dict = {\n",
    "        'roberta_neg':scores[0],\n",
    "        'roberta_neu':scores[1],\n",
    "        'roberta_pos':scores[2],\n",
    "    }\n",
    "    return scores_dict"
   ]
  },
  {
   "cell_type": "code",
   "execution_count": 202,
   "metadata": {},
   "outputs": [
    {
     "data": {
      "text/plain": [
       "{'roberta_neg': 0.05914035,\n",
       " 'roberta_neu': 0.35210857,\n",
       " 'roberta_pos': 0.5887511}"
      ]
     },
     "execution_count": 202,
     "metadata": {},
     "output_type": "execute_result"
    }
   ],
   "source": [
    "polarity_scores(example)"
   ]
  },
  {
   "cell_type": "code",
   "execution_count": 203,
   "metadata": {},
   "outputs": [
    {
     "name": "stderr",
     "output_type": "stream",
     "text": [
      "100%|██████████| 1386/1386 [03:09<00:00,  7.32it/s]"
     ]
    },
    {
     "name": "stdout",
     "output_type": "stream",
     "text": [
      "[34, 43, 69, 93, 114, 123, 224, 361, 389, 395, 425, 545, 558, 603, 605, 609, 617, 618, 659, 672, 677, 681, 741, 744, 799, 849, 906, 913, 972, 1018, 1044, 1071, 1074, 1084, 1090, 1093, 1197, 1210, 1232, 1270, 1285, 1306, 1311, 1323, 1333, 1353, 1356]\n"
     ]
    },
    {
     "name": "stderr",
     "output_type": "stream",
     "text": [
      "\n"
     ]
    }
   ],
   "source": [
    "res = {}\n",
    "failed = []\n",
    "for i, row in tqdm(df.iterrows(),total=len(df)):\n",
    "    try:\n",
    "        text = row['reviewText']\n",
    "        my_idx = row['index']\n",
    "        res[my_idx] = polarity_scores(text)\n",
    "    except RuntimeError:\n",
    "        failed.append(my_idx)\n",
    "print(failed)"
   ]
  },
  {
   "cell_type": "code",
   "execution_count": 204,
   "metadata": {},
   "outputs": [],
   "source": [
    "results_df = pd.DataFrame(res).T\n",
    "results_df.reset_index(inplace=True)\n",
    "results_df = results_df.merge(df, how='left')"
   ]
  },
  {
   "cell_type": "code",
   "execution_count": 205,
   "metadata": {},
   "outputs": [
    {
     "data": {
      "text/plain": [
       "array([ 5.,  4.,  3.,  2.,  1., nan])"
      ]
     },
     "execution_count": 205,
     "metadata": {},
     "output_type": "execute_result"
    }
   ],
   "source": [
    "results_df.overall.unique()"
   ]
  },
  {
   "cell_type": "code",
   "execution_count": 206,
   "metadata": {},
   "outputs": [
    {
     "data": {
      "image/png": "[encoded data removed]",
      "text/plain": [
       "<Figure size 1200x300 with 3 Axes>"
      ]
     },
     "metadata": {},
     "output_type": "display_data"
    }
   ],
   "source": [
    "fig, axs = plt.subplots(1, 3, figsize=(12, 3))\n",
    "sns.barplot(data=results_df, x='overall', y='roberta_pos', ax=axs[0])\n",
    "sns.barplot(data=results_df, x='overall', y='roberta_neu', ax=axs[1])\n",
    "sns.barplot(data=results_df, x='overall', y='roberta_neg', ax=axs[2])\n",
    "axs[0].set_title('Positive')\n",
    "axs[1].set_title('Neutral')\n",
    "axs[2].set_title('Negative')\n",
    "plt.tight_layout()\n",
    "plt.show()"
   ]
  },
  {
   "cell_type": "code",
   "execution_count": 207,
   "metadata": {},
   "outputs": [],
   "source": [
    "df['Simulated_overall'] = np.round(results_df['roberta_pos']*5)"
   ]
  },
  {
   "cell_type": "code",
   "execution_count": 220,
   "metadata": {},
   "outputs": [
    {
     "data": {
      "text/plain": [
       "<AxesSubplot: xlabel='overall', ylabel='Count'>"
      ]
     },
     "execution_count": 220,
     "metadata": {},
     "output_type": "execute_result"
    },
    {
     "data": {
      "image/png": "[encoded data removed]",
      "text/plain": [
       "<Figure size 640x480 with 1 Axes>"
      ]
     },
     "metadata": {},
     "output_type": "display_data"
    }
   ],
   "source": [
    "sns.histplot(data=df,x='overall')"
   ]
  },
  {
   "cell_type": "code",
   "execution_count": 208,
   "metadata": {},
   "outputs": [
    {
     "data": {
      "text/plain": [
       "<AxesSubplot: xlabel='Simulated_overall', ylabel='Count'>"
      ]
     },
     "execution_count": 208,
     "metadata": {},
     "output_type": "execute_result"
    },
    {
     "data": {
      "image/png": "[encoded data removed]",
      "text/plain": [
       "<Figure size 640x480 with 1 Axes>"
      ]
     },
     "metadata": {},
     "output_type": "display_data"
    }
   ],
   "source": [
    "sns.histplot(data=df,x='Simulated_overall',hue='overall', multiple=\"dodge\",bins=5)"
   ]
  },
  {
   "cell_type": "code",
   "execution_count": 217,
   "metadata": {},
   "outputs": [
    {
     "name": "stdout",
     "output_type": "stream",
     "text": [
      "MSE: 4.619612571908004\n",
      "MAE: 1.5765640030208712\n"
     ]
    }
   ],
   "source": [
    "df2 = df.dropna()\n",
    "print(f\"MSE: {mean_squared_error(df2['overall'],df2['Simulated_overall'])}\")\n",
    "print(f\"MAE: {mean_absolute_error(df2['overall'],df2['Simulated_overall'])}\")"
   ]
  },
  {
   "cell_type": "code",
   "execution_count": null,
   "metadata": {},
   "outputs": [],
   "source": []
  }
 ],
 "metadata": {
  "kernelspec": {
   "display_name": "Python 3",
   "language": "python",
   "name": "python3"
  },
  "language_info": {
   "codemirror_mode": {
    "name": "ipython",
    "version": 3
   },
   "file_extension": ".py",
   "mimetype": "text/x-python",
   "name": "python",
   "nbconvert_exporter": "python",
   "pygments_lexer": "ipython3",
   "version": "3.10.0"
  },
  "orig_nbformat": 4,
  "vscode": {
   "interpreter": {
    "hash": "609973a2d1f31d45d1c4d9f5c0b4ecf9cb33fe1a555b03392724c0cdbb5c54ba"
   }
  }
 },
 "nbformat": 4,
 "nbformat_minor": 2
}
