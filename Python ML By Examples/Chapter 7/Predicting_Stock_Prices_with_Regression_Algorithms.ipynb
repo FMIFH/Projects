{
 "cells": [
  {
   "cell_type": "code",
   "execution_count": 1,
   "metadata": {},
   "outputs": [],
   "source": [
    "import pandas as pd\n",
    "from sklearn.preprocessing import StandardScaler\n",
    "from sklearn.pipeline import make_pipeline\n",
    "from sklearn.model_selection import GridSearchCV\n",
    "from sklearn.linear_model import SGDRegressor\n",
    "from sklearn.ensemble import RandomForestRegressor\n",
    "from sklearn.svm import SVR\n",
    "from sklearn.metrics import mean_absolute_error, mean_squared_error, r2_score\n",
    "import matplotlib.pyplot as plt "
   ]
  },
  {
   "cell_type": "code",
   "execution_count": 2,
   "metadata": {},
   "outputs": [],
   "source": [
    "mydata = pd.read_csv('20051201_20051210.csv',index_col='Date')"
   ]
  },
  {
   "cell_type": "code",
   "execution_count": 3,
   "metadata": {},
   "outputs": [
    {
     "data": {
      "text/html": [
       "<div>\n",
       "<style scoped>\n",
       "    .dataframe tbody tr th:only-of-type {\n",
       "        vertical-align: middle;\n",
       "    }\n",
       "\n",
       "    .dataframe tbody tr th {\n",
       "        vertical-align: top;\n",
       "    }\n",
       "\n",
       "    .dataframe thead th {\n",
       "        text-align: right;\n",
       "    }\n",
       "</style>\n",
       "<table border=\"1\" class=\"dataframe\">\n",
       "  <thead>\n",
       "    <tr style=\"text-align: right;\">\n",
       "      <th></th>\n",
       "      <th>Open</th>\n",
       "      <th>High</th>\n",
       "      <th>Low</th>\n",
       "      <th>Close</th>\n",
       "      <th>Adj Close</th>\n",
       "      <th>Volume</th>\n",
       "    </tr>\n",
       "    <tr>\n",
       "      <th>Date</th>\n",
       "      <th></th>\n",
       "      <th></th>\n",
       "      <th></th>\n",
       "      <th></th>\n",
       "      <th></th>\n",
       "      <th></th>\n",
       "    </tr>\n",
       "  </thead>\n",
       "  <tbody>\n",
       "    <tr>\n",
       "      <th>2005-12-01</th>\n",
       "      <td>10806.030273</td>\n",
       "      <td>10934.900391</td>\n",
       "      <td>10806.030273</td>\n",
       "      <td>10912.570313</td>\n",
       "      <td>10912.570313</td>\n",
       "      <td>256980000</td>\n",
       "    </tr>\n",
       "    <tr>\n",
       "      <th>2005-12-02</th>\n",
       "      <td>10912.009766</td>\n",
       "      <td>10921.370117</td>\n",
       "      <td>10861.660156</td>\n",
       "      <td>10877.509766</td>\n",
       "      <td>10877.509766</td>\n",
       "      <td>214900000</td>\n",
       "    </tr>\n",
       "    <tr>\n",
       "      <th>2005-12-05</th>\n",
       "      <td>10876.950195</td>\n",
       "      <td>10876.950195</td>\n",
       "      <td>10810.669922</td>\n",
       "      <td>10835.009766</td>\n",
       "      <td>10835.009766</td>\n",
       "      <td>237340000</td>\n",
       "    </tr>\n",
       "    <tr>\n",
       "      <th>2005-12-06</th>\n",
       "      <td>10835.410156</td>\n",
       "      <td>10936.200195</td>\n",
       "      <td>10835.410156</td>\n",
       "      <td>10856.860352</td>\n",
       "      <td>10856.860352</td>\n",
       "      <td>264630000</td>\n",
       "    </tr>\n",
       "    <tr>\n",
       "      <th>2005-12-07</th>\n",
       "      <td>10856.860352</td>\n",
       "      <td>10868.059570</td>\n",
       "      <td>10764.009766</td>\n",
       "      <td>10810.910156</td>\n",
       "      <td>10810.910156</td>\n",
       "      <td>243490000</td>\n",
       "    </tr>\n",
       "    <tr>\n",
       "      <th>2005-12-08</th>\n",
       "      <td>10808.429688</td>\n",
       "      <td>10847.250000</td>\n",
       "      <td>10729.669922</td>\n",
       "      <td>10755.120117</td>\n",
       "      <td>10755.120117</td>\n",
       "      <td>253290000</td>\n",
       "    </tr>\n",
       "    <tr>\n",
       "      <th>2005-12-09</th>\n",
       "      <td>10751.759766</td>\n",
       "      <td>10805.950195</td>\n",
       "      <td>10729.910156</td>\n",
       "      <td>10778.580078</td>\n",
       "      <td>10778.580078</td>\n",
       "      <td>238930000</td>\n",
       "    </tr>\n",
       "  </tbody>\n",
       "</table>\n",
       "</div>"
      ],
      "text/plain": [
       "                    Open          High           Low         Close  \\\n",
       "Date                                                                 \n",
       "2005-12-01  10806.030273  10934.900391  10806.030273  10912.570313   \n",
       "2005-12-02  10912.009766  10921.370117  10861.660156  10877.509766   \n",
       "2005-12-05  10876.950195  10876.950195  10810.669922  10835.009766   \n",
       "2005-12-06  10835.410156  10936.200195  10835.410156  10856.860352   \n",
       "2005-12-07  10856.860352  10868.059570  10764.009766  10810.910156   \n",
       "2005-12-08  10808.429688  10847.250000  10729.669922  10755.120117   \n",
       "2005-12-09  10751.759766  10805.950195  10729.910156  10778.580078   \n",
       "\n",
       "               Adj Close     Volume  \n",
       "Date                                 \n",
       "2005-12-01  10912.570313  256980000  \n",
       "2005-12-02  10877.509766  214900000  \n",
       "2005-12-05  10835.009766  237340000  \n",
       "2005-12-06  10856.860352  264630000  \n",
       "2005-12-07  10810.910156  243490000  \n",
       "2005-12-08  10755.120117  253290000  \n",
       "2005-12-09  10778.580078  238930000  "
      ]
     },
     "execution_count": 3,
     "metadata": {},
     "output_type": "execute_result"
    }
   ],
   "source": [
    "mydata"
   ]
  },
  {
   "cell_type": "code",
   "execution_count": 4,
   "metadata": {},
   "outputs": [],
   "source": [
    "def add_original_feature(df, df_new):\n",
    "    df_new['open']      = df['Open']\n",
    "    df_new['open_1']    = df['Open'].shift(1)\n",
    "    df_new['close_1']   = df['Close'].shift(1)\n",
    "    df_new['high_1']    = df['High'].shift(1)\n",
    "    df_new['low_1']     = df['Low'].shift(1)\n",
    "    df_new['volume_1']  = df['Volume'].shift(1)"
   ]
  },
  {
   "cell_type": "code",
   "execution_count": 5,
   "metadata": {},
   "outputs": [],
   "source": [
    "def add_avg_price(df, df_new):\n",
    "    df_new['avg_price_5']              = df['Close'].rolling(5).mean().shift(1) #week excluding weekends\n",
    "    df_new['avg_price_30']             = df['Close'].rolling(21).mean().shift(1) #month excluding weekends\n",
    "    df_new['avg_price_365']            = df['Close'].rolling(252).mean().shift(1) #year excluding weekends\n",
    "    df_new['ratio_avg_price_5_30']     = df_new['avg_price_5'] / df_new['avg_price_30']\n",
    "    df_new['ratio_avg_price_5_365']    = df_new['avg_price_5'] / df_new['avg_price_365']\n",
    "    df_new['ratio_avg_price_30_365']   = df_new['avg_price_30'] / df_new['avg_price_365']\n"
   ]
  },
  {
   "cell_type": "code",
   "execution_count": 6,
   "metadata": {},
   "outputs": [],
   "source": [
    "def add_avg_volume(df, df_new):\n",
    "    df_new['avg_volume_5']             = df['Volume'].rolling(5).mean().shift(1)\n",
    "    df_new['avg_volume_30']            = df['Volume'].rolling(21).mean().shift(1)\n",
    "    df_new['avg_volume_365']           = df['Volume'].rolling(252).mean().shift(1)\n",
    "    df_new['ratio_avg_volume_5_30']    = df_new['avg_volume_5'] / df_new['avg_volume_30']\n",
    "    df_new['ratio_avg_volume_5_365']   = df_new['avg_volume_5'] / df_new['avg_volume_365']\n",
    "    df_new['ratio_avg_volume_30_365']  = df_new['avg_volume_30'] / df_new['avg_volume_365']"
   ]
  },
  {
   "cell_type": "code",
   "execution_count": 7,
   "metadata": {},
   "outputs": [],
   "source": [
    "def add_std_price(df, df_new):\n",
    "    df_new['std_price_5']               = df['Close'].rolling(5).std().shift(1)\n",
    "    df_new['std_price_30']              = df['Close'].rolling(21).std().shift(1) \n",
    "    df_new['std_price_365']             = df['Close'].rolling(252).std().shift(1) \n",
    "    \n",
    "    df_new['ratio_std_price_5_30']      = df_new['std_price_5'] / df_new['std_price_30']\n",
    "    df_new['ratio_std_price_5_365']     = df_new['std_price_5'] / df_new['std_price_365']\n",
    "    df_new['ratio_std_price_30_365']    = df_new['std_price_30'] / df_new['std_price_365']"
   ]
  },
  {
   "cell_type": "code",
   "execution_count": 8,
   "metadata": {},
   "outputs": [],
   "source": [
    "def add_std_volume(df, df_new):\n",
    "     df_new['std_volume_5']             = df['Volume'].rolling(5).std().shift(1)\n",
    "     df_new['std_volume_30']            = df['Volume'].rolling(21).std().shift(1)\n",
    "     df_new['std_volume_365']           = df['Volume'].rolling(252).std().shift(1)\n",
    "     \n",
    "     df_new['ratio_std_volume_5_30']    = df_new['std_volume_5'] / df_new['std_volume_30']\n",
    "     df_new['ratio_std_volume_5_365']   = df_new['std_volume_5'] / df_new['std_volume_365']\n",
    "     df_new['ratio_std_volume_30_365']  = df_new['std_volume_30'] / df_new['std_volume_365']"
   ]
  },
  {
   "cell_type": "code",
   "execution_count": 9,
   "metadata": {},
   "outputs": [],
   "source": [
    "def add_return_feature(df, df_new):\n",
    "     df_new['return_1']         = ((df['Close'] - df['Close'].shift(1)) / df['Close'].shift(1)).shift(1)\n",
    "     df_new['return_5']         = ((df['Close'] - df['Close'].shift(5)) / df['Close'].shift(5)).shift(1)\n",
    "     df_new['return_30']        = ((df['Close'] - df['Close'].shift(21)) / df['Close'].shift(21)).shift(1)\n",
    "     df_new['return_365']       = ((df['Close'] - df['Close'].shift(252)) / df['Close'].shift(252)).shift(1)\n",
    "     \n",
    "     df_new['moving_avg_5']     = df_new['return_1'].rolling(5).mean().shift(1)\n",
    "     df_new['moving_avg_30']    = df_new['return_1'].rolling(21).mean().shift(1)\n",
    "     df_new['moving_avg_365']   = df_new['return_1'].rolling(252).mean().shift(1)"
   ]
  },
  {
   "cell_type": "code",
   "execution_count": 10,
   "metadata": {},
   "outputs": [],
   "source": [
    "def generate_features(df):\n",
    "     \"\"\"\n",
    "     Generate features for a stock/index based on historical price and performance\n",
    "     @param df: dataframe with columns \"Open\", \"Close\", \"High\", \"Low\", \"Volume\", \"Adjusted Close\"\n",
    "     @return: dataframe, data set with new features\n",
    "     \"\"\"\n",
    "     df_new = pd.DataFrame()\n",
    "     # 6 original features\n",
    "     add_original_feature(df, df_new)\n",
    "     # 31 generated features\n",
    "     add_avg_price(df, df_new)\n",
    "     add_avg_volume(df, df_new)\n",
    "     add_std_price(df, df_new)\n",
    "     add_std_volume(df, df_new)\n",
    "     add_return_feature(df, df_new)\n",
    "     # the target\n",
    "     df_new['close'] = df['Close']\n",
    "     df_new = df_new.dropna(axis=0)\n",
    "     return df_new"
   ]
  },
  {
   "cell_type": "code",
   "execution_count": 11,
   "metadata": {},
   "outputs": [],
   "source": [
    "data_raw = pd.read_csv('19880101_20161231.csv',index_col='Date')"
   ]
  },
  {
   "cell_type": "code",
   "execution_count": 12,
   "metadata": {},
   "outputs": [],
   "source": [
    "data = generate_features(data_raw)"
   ]
  },
  {
   "cell_type": "code",
   "execution_count": 13,
   "metadata": {},
   "outputs": [
    {
     "data": {
      "text/html": [
       "<div>\n",
       "<style scoped>\n",
       "    .dataframe tbody tr th:only-of-type {\n",
       "        vertical-align: middle;\n",
       "    }\n",
       "\n",
       "    .dataframe tbody tr th {\n",
       "        vertical-align: top;\n",
       "    }\n",
       "\n",
       "    .dataframe thead th {\n",
       "        text-align: right;\n",
       "    }\n",
       "</style>\n",
       "<table border=\"1\" class=\"dataframe\">\n",
       "  <thead>\n",
       "    <tr style=\"text-align: right;\">\n",
       "      <th></th>\n",
       "      <th>open</th>\n",
       "      <th>open_1</th>\n",
       "      <th>close_1</th>\n",
       "      <th>high_1</th>\n",
       "      <th>low_1</th>\n",
       "      <th>volume_1</th>\n",
       "      <th>avg_price_5</th>\n",
       "      <th>avg_price_30</th>\n",
       "      <th>avg_price_365</th>\n",
       "      <th>ratio_avg_price_5_30</th>\n",
       "      <th>...</th>\n",
       "      <th>ratio_std_volume_5_365</th>\n",
       "      <th>ratio_std_volume_30_365</th>\n",
       "      <th>return_1</th>\n",
       "      <th>return_5</th>\n",
       "      <th>return_30</th>\n",
       "      <th>return_365</th>\n",
       "      <th>moving_avg_5</th>\n",
       "      <th>moving_avg_30</th>\n",
       "      <th>moving_avg_365</th>\n",
       "      <th>close</th>\n",
       "    </tr>\n",
       "    <tr>\n",
       "      <th>Date</th>\n",
       "      <th></th>\n",
       "      <th></th>\n",
       "      <th></th>\n",
       "      <th></th>\n",
       "      <th></th>\n",
       "      <th></th>\n",
       "      <th></th>\n",
       "      <th></th>\n",
       "      <th></th>\n",
       "      <th></th>\n",
       "      <th></th>\n",
       "      <th></th>\n",
       "      <th></th>\n",
       "      <th></th>\n",
       "      <th></th>\n",
       "      <th></th>\n",
       "      <th></th>\n",
       "      <th></th>\n",
       "      <th></th>\n",
       "      <th></th>\n",
       "      <th></th>\n",
       "    </tr>\n",
       "  </thead>\n",
       "  <tbody>\n",
       "    <tr>\n",
       "      <th>2016-12-23</th>\n",
       "      <td>19908.609</td>\n",
       "      <td>19922.680</td>\n",
       "      <td>19918.881</td>\n",
       "      <td>19933.830</td>\n",
       "      <td>19882.189</td>\n",
       "      <td>258290000.0</td>\n",
       "      <td>19912.386</td>\n",
       "      <td>19535.447</td>\n",
       "      <td>17881.613</td>\n",
       "      <td>1.019</td>\n",
       "      <td>...</td>\n",
       "      <td>1.977</td>\n",
       "      <td>2.040</td>\n",
       "      <td>-0.001</td>\n",
       "      <td>0.003</td>\n",
       "      <td>0.047</td>\n",
       "      <td>0.132</td>\n",
       "      <td>0.002</td>\n",
       "      <td>0.002</td>\n",
       "      <td>0.001</td>\n",
       "      <td>19933.811</td>\n",
       "    </tr>\n",
       "    <tr>\n",
       "      <th>2016-12-27</th>\n",
       "      <td>19943.461</td>\n",
       "      <td>19908.609</td>\n",
       "      <td>19933.811</td>\n",
       "      <td>19934.150</td>\n",
       "      <td>19899.061</td>\n",
       "      <td>158260000.0</td>\n",
       "      <td>19930.466</td>\n",
       "      <td>19575.953</td>\n",
       "      <td>17891.064</td>\n",
       "      <td>1.018</td>\n",
       "      <td>...</td>\n",
       "      <td>0.819</td>\n",
       "      <td>1.981</td>\n",
       "      <td>0.001</td>\n",
       "      <td>0.005</td>\n",
       "      <td>0.045</td>\n",
       "      <td>0.136</td>\n",
       "      <td>0.001</td>\n",
       "      <td>0.002</td>\n",
       "      <td>0.001</td>\n",
       "      <td>19945.039</td>\n",
       "    </tr>\n",
       "    <tr>\n",
       "      <th>2016-12-28</th>\n",
       "      <td>19964.311</td>\n",
       "      <td>19943.461</td>\n",
       "      <td>19945.039</td>\n",
       "      <td>19980.240</td>\n",
       "      <td>19939.801</td>\n",
       "      <td>158540000.0</td>\n",
       "      <td>19942.862</td>\n",
       "      <td>19613.710</td>\n",
       "      <td>17900.654</td>\n",
       "      <td>1.017</td>\n",
       "      <td>...</td>\n",
       "      <td>0.884</td>\n",
       "      <td>1.878</td>\n",
       "      <td>0.001</td>\n",
       "      <td>0.003</td>\n",
       "      <td>0.041</td>\n",
       "      <td>0.138</td>\n",
       "      <td>0.001</td>\n",
       "      <td>0.002</td>\n",
       "      <td>0.001</td>\n",
       "      <td>19833.680</td>\n",
       "    </tr>\n",
       "    <tr>\n",
       "      <th>2016-12-29</th>\n",
       "      <td>19835.461</td>\n",
       "      <td>19964.311</td>\n",
       "      <td>19833.680</td>\n",
       "      <td>19981.109</td>\n",
       "      <td>19827.311</td>\n",
       "      <td>188350000.0</td>\n",
       "      <td>19914.674</td>\n",
       "      <td>19648.748</td>\n",
       "      <td>17909.038</td>\n",
       "      <td>1.014</td>\n",
       "      <td>...</td>\n",
       "      <td>0.739</td>\n",
       "      <td>1.798</td>\n",
       "      <td>-0.006</td>\n",
       "      <td>-0.007</td>\n",
       "      <td>0.039</td>\n",
       "      <td>0.119</td>\n",
       "      <td>0.001</td>\n",
       "      <td>0.002</td>\n",
       "      <td>0.001</td>\n",
       "      <td>19819.779</td>\n",
       "    </tr>\n",
       "    <tr>\n",
       "      <th>2016-12-30</th>\n",
       "      <td>19833.170</td>\n",
       "      <td>19835.461</td>\n",
       "      <td>19819.779</td>\n",
       "      <td>19878.439</td>\n",
       "      <td>19788.939</td>\n",
       "      <td>172040000.0</td>\n",
       "      <td>19890.238</td>\n",
       "      <td>19681.994</td>\n",
       "      <td>17917.831</td>\n",
       "      <td>1.011</td>\n",
       "      <td>...</td>\n",
       "      <td>0.612</td>\n",
       "      <td>1.715</td>\n",
       "      <td>-0.001</td>\n",
       "      <td>-0.006</td>\n",
       "      <td>0.037</td>\n",
       "      <td>0.126</td>\n",
       "      <td>-0.001</td>\n",
       "      <td>0.002</td>\n",
       "      <td>0.000</td>\n",
       "      <td>19762.600</td>\n",
       "    </tr>\n",
       "  </tbody>\n",
       "</table>\n",
       "<p>5 rows × 38 columns</p>\n",
       "</div>"
      ],
      "text/plain": [
       "                 open     open_1    close_1     high_1      low_1  \\\n",
       "Date                                                                \n",
       "2016-12-23  19908.609  19922.680  19918.881  19933.830  19882.189   \n",
       "2016-12-27  19943.461  19908.609  19933.811  19934.150  19899.061   \n",
       "2016-12-28  19964.311  19943.461  19945.039  19980.240  19939.801   \n",
       "2016-12-29  19835.461  19964.311  19833.680  19981.109  19827.311   \n",
       "2016-12-30  19833.170  19835.461  19819.779  19878.439  19788.939   \n",
       "\n",
       "               volume_1  avg_price_5  avg_price_30  avg_price_365  \\\n",
       "Date                                                                \n",
       "2016-12-23  258290000.0    19912.386     19535.447      17881.613   \n",
       "2016-12-27  158260000.0    19930.466     19575.953      17891.064   \n",
       "2016-12-28  158540000.0    19942.862     19613.710      17900.654   \n",
       "2016-12-29  188350000.0    19914.674     19648.748      17909.038   \n",
       "2016-12-30  172040000.0    19890.238     19681.994      17917.831   \n",
       "\n",
       "            ratio_avg_price_5_30  ...  ratio_std_volume_5_365  \\\n",
       "Date                              ...                           \n",
       "2016-12-23                 1.019  ...                   1.977   \n",
       "2016-12-27                 1.018  ...                   0.819   \n",
       "2016-12-28                 1.017  ...                   0.884   \n",
       "2016-12-29                 1.014  ...                   0.739   \n",
       "2016-12-30                 1.011  ...                   0.612   \n",
       "\n",
       "            ratio_std_volume_30_365  return_1  return_5  return_30  \\\n",
       "Date                                                                 \n",
       "2016-12-23                    2.040    -0.001     0.003      0.047   \n",
       "2016-12-27                    1.981     0.001     0.005      0.045   \n",
       "2016-12-28                    1.878     0.001     0.003      0.041   \n",
       "2016-12-29                    1.798    -0.006    -0.007      0.039   \n",
       "2016-12-30                    1.715    -0.001    -0.006      0.037   \n",
       "\n",
       "            return_365  moving_avg_5  moving_avg_30  moving_avg_365      close  \n",
       "Date                                                                            \n",
       "2016-12-23       0.132         0.002          0.002           0.001  19933.811  \n",
       "2016-12-27       0.136         0.001          0.002           0.001  19945.039  \n",
       "2016-12-28       0.138         0.001          0.002           0.001  19833.680  \n",
       "2016-12-29       0.119         0.001          0.002           0.001  19819.779  \n",
       "2016-12-30       0.126        -0.001          0.002           0.000  19762.600  \n",
       "\n",
       "[5 rows x 38 columns]"
      ]
     },
     "execution_count": 13,
     "metadata": {},
     "output_type": "execute_result"
    }
   ],
   "source": [
    "data.round(decimals=3).tail(5)"
   ]
  },
  {
   "cell_type": "code",
   "execution_count": 14,
   "metadata": {},
   "outputs": [],
   "source": [
    "date_split = '2016'\n",
    "train_data = data.loc[data.index < date_split]\n",
    "test_data = data.loc[data.index > date_split]\n",
    "X_train = train_data.drop(['close'],axis=1)\n",
    "Y_train = train_data['close']\n",
    "X_test = test_data.drop(['close'],axis=1)\n",
    "Y_test = test_data['close']"
   ]
  },
  {
   "cell_type": "code",
   "execution_count": 15,
   "metadata": {},
   "outputs": [
    {
     "data": {
      "text/plain": [
       "(6804, 38)"
      ]
     },
     "execution_count": 15,
     "metadata": {},
     "output_type": "execute_result"
    }
   ],
   "source": [
    "train_data.shape"
   ]
  },
  {
   "cell_type": "code",
   "execution_count": 16,
   "metadata": {},
   "outputs": [
    {
     "data": {
      "text/plain": [
       "(252, 38)"
      ]
     },
     "execution_count": 16,
     "metadata": {},
     "output_type": "execute_result"
    }
   ],
   "source": [
    "test_data.shape"
   ]
  },
  {
   "attachments": {},
   "cell_type": "markdown",
   "metadata": {},
   "source": [
    "# SGD Regressor"
   ]
  },
  {
   "cell_type": "code",
   "execution_count": 17,
   "metadata": {},
   "outputs": [],
   "source": [
    "sgd = make_pipeline(StandardScaler(),SGDRegressor(penalty='l2', max_iter=1000))"
   ]
  },
  {
   "cell_type": "code",
   "execution_count": 18,
   "metadata": {},
   "outputs": [
    {
     "name": "stdout",
     "output_type": "stream",
     "text": [
      "Pipeline(steps=[('standardscaler', StandardScaler()),\n",
      "                ('sgdregressor', SGDRegressor())])\n"
     ]
    }
   ],
   "source": [
    "print(sgd)"
   ]
  },
  {
   "cell_type": "code",
   "execution_count": 19,
   "metadata": {},
   "outputs": [
    {
     "data": {
      "text/html": [
       "<style>#sk-container-id-1 {color: black;background-color: white;}#sk-container-id-1 pre{padding: 0;}#sk-container-id-1 div.sk-toggleable {background-color: white;}#sk-container-id-1 label.sk-toggleable__label {cursor: pointer;display: block;width: 100%;margin-bottom: 0;padding: 0.3em;box-sizing: border-box;text-align: center;}#sk-container-id-1 label.sk-toggleable__label-arrow:before {content: \"▸\";float: left;margin-right: 0.25em;color: #696969;}#sk-container-id-1 label.sk-toggleable__label-arrow:hover:before {color: black;}#sk-container-id-1 div.sk-estimator:hover label.sk-toggleable__label-arrow:before {color: black;}#sk-container-id-1 div.sk-toggleable__content {max-height: 0;max-width: 0;overflow: hidden;text-align: left;background-color: #f0f8ff;}#sk-container-id-1 div.sk-toggleable__content pre {margin: 0.2em;color: black;border-radius: 0.25em;background-color: #f0f8ff;}#sk-container-id-1 input.sk-toggleable__control:checked~div.sk-toggleable__content {max-height: 200px;max-width: 100%;overflow: auto;}#sk-container-id-1 input.sk-toggleable__control:checked~label.sk-toggleable__label-arrow:before {content: \"▾\";}#sk-container-id-1 div.sk-estimator input.sk-toggleable__control:checked~label.sk-toggleable__label {background-color: #d4ebff;}#sk-container-id-1 div.sk-label input.sk-toggleable__control:checked~label.sk-toggleable__label {background-color: #d4ebff;}#sk-container-id-1 input.sk-hidden--visually {border: 0;clip: rect(1px 1px 1px 1px);clip: rect(1px, 1px, 1px, 1px);height: 1px;margin: -1px;overflow: hidden;padding: 0;position: absolute;width: 1px;}#sk-container-id-1 div.sk-estimator {font-family: monospace;background-color: #f0f8ff;border: 1px dotted black;border-radius: 0.25em;box-sizing: border-box;margin-bottom: 0.5em;}#sk-container-id-1 div.sk-estimator:hover {background-color: #d4ebff;}#sk-container-id-1 div.sk-parallel-item::after {content: \"\";width: 100%;border-bottom: 1px solid gray;flex-grow: 1;}#sk-container-id-1 div.sk-label:hover label.sk-toggleable__label {background-color: #d4ebff;}#sk-container-id-1 div.sk-serial::before {content: \"\";position: absolute;border-left: 1px solid gray;box-sizing: border-box;top: 0;bottom: 0;left: 50%;z-index: 0;}#sk-container-id-1 div.sk-serial {display: flex;flex-direction: column;align-items: center;background-color: white;padding-right: 0.2em;padding-left: 0.2em;position: relative;}#sk-container-id-1 div.sk-item {position: relative;z-index: 1;}#sk-container-id-1 div.sk-parallel {display: flex;align-items: stretch;justify-content: center;background-color: white;position: relative;}#sk-container-id-1 div.sk-item::before, #sk-container-id-1 div.sk-parallel-item::before {content: \"\";position: absolute;border-left: 1px solid gray;box-sizing: border-box;top: 0;bottom: 0;left: 50%;z-index: -1;}#sk-container-id-1 div.sk-parallel-item {display: flex;flex-direction: column;z-index: 1;position: relative;background-color: white;}#sk-container-id-1 div.sk-parallel-item:first-child::after {align-self: flex-end;width: 50%;}#sk-container-id-1 div.sk-parallel-item:last-child::after {align-self: flex-start;width: 50%;}#sk-container-id-1 div.sk-parallel-item:only-child::after {width: 0;}#sk-container-id-1 div.sk-dashed-wrapped {border: 1px dashed gray;margin: 0 0.4em 0.5em 0.4em;box-sizing: border-box;padding-bottom: 0.4em;background-color: white;}#sk-container-id-1 div.sk-label label {font-family: monospace;font-weight: bold;display: inline-block;line-height: 1.2em;}#sk-container-id-1 div.sk-label-container {text-align: center;}#sk-container-id-1 div.sk-container {/* jupyter's `normalize.less` sets `[hidden] { display: none; }` but bootstrap.min.css set `[hidden] { display: none !important; }` so we also need the `!important` here to be able to override the default hidden behavior on the sphinx rendered scikit-learn.org. See: https://github.com/scikit-learn/scikit-learn/issues/21755 */display: inline-block !important;position: relative;}#sk-container-id-1 div.sk-text-repr-fallback {display: none;}</style><div id=\"sk-container-id-1\" class=\"sk-top-container\"><div class=\"sk-text-repr-fallback\"><pre>GridSearchCV(cv=5,\n",
       "             estimator=Pipeline(steps=[(&#x27;standardscaler&#x27;, StandardScaler()),\n",
       "                                       (&#x27;sgdregressor&#x27;, SGDRegressor())]),\n",
       "             n_jobs=-1,\n",
       "             param_grid={&#x27;sgdregressor__alpha&#x27;: [0.0001, 0.0003, 0.001],\n",
       "                         &#x27;sgdregressor__eta0&#x27;: [0.01, 0.03, 0.1]},\n",
       "             scoring=&#x27;r2&#x27;)</pre><b>In a Jupyter environment, please rerun this cell to show the HTML representation or trust the notebook. <br />On GitHub, the HTML representation is unable to render, please try loading this page with nbviewer.org.</b></div><div class=\"sk-container\" hidden><div class=\"sk-item sk-dashed-wrapped\"><div class=\"sk-label-container\"><div class=\"sk-label sk-toggleable\"><input class=\"sk-toggleable__control sk-hidden--visually\" id=\"sk-estimator-id-1\" type=\"checkbox\" ><label for=\"sk-estimator-id-1\" class=\"sk-toggleable__label sk-toggleable__label-arrow\">GridSearchCV</label><div class=\"sk-toggleable__content\"><pre>GridSearchCV(cv=5,\n",
       "             estimator=Pipeline(steps=[(&#x27;standardscaler&#x27;, StandardScaler()),\n",
       "                                       (&#x27;sgdregressor&#x27;, SGDRegressor())]),\n",
       "             n_jobs=-1,\n",
       "             param_grid={&#x27;sgdregressor__alpha&#x27;: [0.0001, 0.0003, 0.001],\n",
       "                         &#x27;sgdregressor__eta0&#x27;: [0.01, 0.03, 0.1]},\n",
       "             scoring=&#x27;r2&#x27;)</pre></div></div></div><div class=\"sk-parallel\"><div class=\"sk-parallel-item\"><div class=\"sk-item\"><div class=\"sk-label-container\"><div class=\"sk-label sk-toggleable\"><input class=\"sk-toggleable__control sk-hidden--visually\" id=\"sk-estimator-id-2\" type=\"checkbox\" ><label for=\"sk-estimator-id-2\" class=\"sk-toggleable__label sk-toggleable__label-arrow\">estimator: Pipeline</label><div class=\"sk-toggleable__content\"><pre>Pipeline(steps=[(&#x27;standardscaler&#x27;, StandardScaler()),\n",
       "                (&#x27;sgdregressor&#x27;, SGDRegressor())])</pre></div></div></div><div class=\"sk-serial\"><div class=\"sk-item\"><div class=\"sk-serial\"><div class=\"sk-item\"><div class=\"sk-estimator sk-toggleable\"><input class=\"sk-toggleable__control sk-hidden--visually\" id=\"sk-estimator-id-3\" type=\"checkbox\" ><label for=\"sk-estimator-id-3\" class=\"sk-toggleable__label sk-toggleable__label-arrow\">StandardScaler</label><div class=\"sk-toggleable__content\"><pre>StandardScaler()</pre></div></div></div><div class=\"sk-item\"><div class=\"sk-estimator sk-toggleable\"><input class=\"sk-toggleable__control sk-hidden--visually\" id=\"sk-estimator-id-4\" type=\"checkbox\" ><label for=\"sk-estimator-id-4\" class=\"sk-toggleable__label sk-toggleable__label-arrow\">SGDRegressor</label><div class=\"sk-toggleable__content\"><pre>SGDRegressor()</pre></div></div></div></div></div></div></div></div></div></div></div></div>"
      ],
      "text/plain": [
       "GridSearchCV(cv=5,\n",
       "             estimator=Pipeline(steps=[('standardscaler', StandardScaler()),\n",
       "                                       ('sgdregressor', SGDRegressor())]),\n",
       "             n_jobs=-1,\n",
       "             param_grid={'sgdregressor__alpha': [0.0001, 0.0003, 0.001],\n",
       "                         'sgdregressor__eta0': [0.01, 0.03, 0.1]},\n",
       "             scoring='r2')"
      ]
     },
     "execution_count": 19,
     "metadata": {},
     "output_type": "execute_result"
    }
   ],
   "source": [
    "param_grid = {\n",
    "     \"sgdregressor__alpha\": [1e-4, 3e-4, 1e-3],\n",
    "     \"sgdregressor__eta0\": [0.01, 0.03, 0.1],\n",
    " }\n",
    "\n",
    "grid_search = GridSearchCV(sgd, param_grid, cv=5, scoring='r2', n_jobs=-1)\n",
    "grid_search.fit(X_train, Y_train)"
   ]
  },
  {
   "cell_type": "code",
   "execution_count": 20,
   "metadata": {},
   "outputs": [
    {
     "name": "stdout",
     "output_type": "stream",
     "text": [
      "{'sgdregressor__alpha': 0.0003, 'sgdregressor__eta0': 0.03}\n",
      "MSE: 21820.656\n",
      "MAE: 105.082\n",
      "R^2: 0.975\n"
     ]
    }
   ],
   "source": [
    "print(grid_search.best_params_)\n",
    "lr_best = grid_search.best_estimator_\n",
    "predictions_lr = lr_best.predict(X_test)\n",
    "print(f'MSE: {mean_squared_error(Y_test, predictions_lr):.3f}')\n",
    "print(f'MAE: {mean_absolute_error(Y_test, predictions_lr):.3f}')\n",
    "print(f'R^2: {r2_score(Y_test, predictions_lr):.3f}')\n"
   ]
  },
  {
   "attachments": {},
   "cell_type": "markdown",
   "metadata": {},
   "source": [
    "# Random Forest Regressor"
   ]
  },
  {
   "cell_type": "code",
   "execution_count": 21,
   "metadata": {},
   "outputs": [],
   "source": [
    "rfr = make_pipeline(StandardScaler(),RandomForestRegressor(n_estimators=100))"
   ]
  },
  {
   "cell_type": "code",
   "execution_count": 22,
   "metadata": {},
   "outputs": [
    {
     "name": "stdout",
     "output_type": "stream",
     "text": [
      "Pipeline(steps=[('standardscaler', StandardScaler()),\n",
      "                ('randomforestregressor', RandomForestRegressor())])\n"
     ]
    }
   ],
   "source": [
    "print(rfr)"
   ]
  },
  {
   "cell_type": "code",
   "execution_count": 23,
   "metadata": {},
   "outputs": [
    {
     "data": {
      "text/html": [
       "<style>#sk-container-id-2 {color: black;background-color: white;}#sk-container-id-2 pre{padding: 0;}#sk-container-id-2 div.sk-toggleable {background-color: white;}#sk-container-id-2 label.sk-toggleable__label {cursor: pointer;display: block;width: 100%;margin-bottom: 0;padding: 0.3em;box-sizing: border-box;text-align: center;}#sk-container-id-2 label.sk-toggleable__label-arrow:before {content: \"▸\";float: left;margin-right: 0.25em;color: #696969;}#sk-container-id-2 label.sk-toggleable__label-arrow:hover:before {color: black;}#sk-container-id-2 div.sk-estimator:hover label.sk-toggleable__label-arrow:before {color: black;}#sk-container-id-2 div.sk-toggleable__content {max-height: 0;max-width: 0;overflow: hidden;text-align: left;background-color: #f0f8ff;}#sk-container-id-2 div.sk-toggleable__content pre {margin: 0.2em;color: black;border-radius: 0.25em;background-color: #f0f8ff;}#sk-container-id-2 input.sk-toggleable__control:checked~div.sk-toggleable__content {max-height: 200px;max-width: 100%;overflow: auto;}#sk-container-id-2 input.sk-toggleable__control:checked~label.sk-toggleable__label-arrow:before {content: \"▾\";}#sk-container-id-2 div.sk-estimator input.sk-toggleable__control:checked~label.sk-toggleable__label {background-color: #d4ebff;}#sk-container-id-2 div.sk-label input.sk-toggleable__control:checked~label.sk-toggleable__label {background-color: #d4ebff;}#sk-container-id-2 input.sk-hidden--visually {border: 0;clip: rect(1px 1px 1px 1px);clip: rect(1px, 1px, 1px, 1px);height: 1px;margin: -1px;overflow: hidden;padding: 0;position: absolute;width: 1px;}#sk-container-id-2 div.sk-estimator {font-family: monospace;background-color: #f0f8ff;border: 1px dotted black;border-radius: 0.25em;box-sizing: border-box;margin-bottom: 0.5em;}#sk-container-id-2 div.sk-estimator:hover {background-color: #d4ebff;}#sk-container-id-2 div.sk-parallel-item::after {content: \"\";width: 100%;border-bottom: 1px solid gray;flex-grow: 1;}#sk-container-id-2 div.sk-label:hover label.sk-toggleable__label {background-color: #d4ebff;}#sk-container-id-2 div.sk-serial::before {content: \"\";position: absolute;border-left: 1px solid gray;box-sizing: border-box;top: 0;bottom: 0;left: 50%;z-index: 0;}#sk-container-id-2 div.sk-serial {display: flex;flex-direction: column;align-items: center;background-color: white;padding-right: 0.2em;padding-left: 0.2em;position: relative;}#sk-container-id-2 div.sk-item {position: relative;z-index: 1;}#sk-container-id-2 div.sk-parallel {display: flex;align-items: stretch;justify-content: center;background-color: white;position: relative;}#sk-container-id-2 div.sk-item::before, #sk-container-id-2 div.sk-parallel-item::before {content: \"\";position: absolute;border-left: 1px solid gray;box-sizing: border-box;top: 0;bottom: 0;left: 50%;z-index: -1;}#sk-container-id-2 div.sk-parallel-item {display: flex;flex-direction: column;z-index: 1;position: relative;background-color: white;}#sk-container-id-2 div.sk-parallel-item:first-child::after {align-self: flex-end;width: 50%;}#sk-container-id-2 div.sk-parallel-item:last-child::after {align-self: flex-start;width: 50%;}#sk-container-id-2 div.sk-parallel-item:only-child::after {width: 0;}#sk-container-id-2 div.sk-dashed-wrapped {border: 1px dashed gray;margin: 0 0.4em 0.5em 0.4em;box-sizing: border-box;padding-bottom: 0.4em;background-color: white;}#sk-container-id-2 div.sk-label label {font-family: monospace;font-weight: bold;display: inline-block;line-height: 1.2em;}#sk-container-id-2 div.sk-label-container {text-align: center;}#sk-container-id-2 div.sk-container {/* jupyter's `normalize.less` sets `[hidden] { display: none; }` but bootstrap.min.css set `[hidden] { display: none !important; }` so we also need the `!important` here to be able to override the default hidden behavior on the sphinx rendered scikit-learn.org. See: https://github.com/scikit-learn/scikit-learn/issues/21755 */display: inline-block !important;position: relative;}#sk-container-id-2 div.sk-text-repr-fallback {display: none;}</style><div id=\"sk-container-id-2\" class=\"sk-top-container\"><div class=\"sk-text-repr-fallback\"><pre>GridSearchCV(cv=5,\n",
       "             estimator=Pipeline(steps=[(&#x27;standardscaler&#x27;, StandardScaler()),\n",
       "                                       (&#x27;randomforestregressor&#x27;,\n",
       "                                        RandomForestRegressor())]),\n",
       "             n_jobs=-1,\n",
       "             param_grid={&#x27;randomforestregressor__max_depth&#x27;: [30, 50],\n",
       "                         &#x27;randomforestregressor__min_samples_leaf&#x27;: [3, 5],\n",
       "                         &#x27;randomforestregressor__min_samples_split&#x27;: [2, 5,\n",
       "                                                                      10]},\n",
       "             scoring=&#x27;r2&#x27;)</pre><b>In a Jupyter environment, please rerun this cell to show the HTML representation or trust the notebook. <br />On GitHub, the HTML representation is unable to render, please try loading this page with nbviewer.org.</b></div><div class=\"sk-container\" hidden><div class=\"sk-item sk-dashed-wrapped\"><div class=\"sk-label-container\"><div class=\"sk-label sk-toggleable\"><input class=\"sk-toggleable__control sk-hidden--visually\" id=\"sk-estimator-id-5\" type=\"checkbox\" ><label for=\"sk-estimator-id-5\" class=\"sk-toggleable__label sk-toggleable__label-arrow\">GridSearchCV</label><div class=\"sk-toggleable__content\"><pre>GridSearchCV(cv=5,\n",
       "             estimator=Pipeline(steps=[(&#x27;standardscaler&#x27;, StandardScaler()),\n",
       "                                       (&#x27;randomforestregressor&#x27;,\n",
       "                                        RandomForestRegressor())]),\n",
       "             n_jobs=-1,\n",
       "             param_grid={&#x27;randomforestregressor__max_depth&#x27;: [30, 50],\n",
       "                         &#x27;randomforestregressor__min_samples_leaf&#x27;: [3, 5],\n",
       "                         &#x27;randomforestregressor__min_samples_split&#x27;: [2, 5,\n",
       "                                                                      10]},\n",
       "             scoring=&#x27;r2&#x27;)</pre></div></div></div><div class=\"sk-parallel\"><div class=\"sk-parallel-item\"><div class=\"sk-item\"><div class=\"sk-label-container\"><div class=\"sk-label sk-toggleable\"><input class=\"sk-toggleable__control sk-hidden--visually\" id=\"sk-estimator-id-6\" type=\"checkbox\" ><label for=\"sk-estimator-id-6\" class=\"sk-toggleable__label sk-toggleable__label-arrow\">estimator: Pipeline</label><div class=\"sk-toggleable__content\"><pre>Pipeline(steps=[(&#x27;standardscaler&#x27;, StandardScaler()),\n",
       "                (&#x27;randomforestregressor&#x27;, RandomForestRegressor())])</pre></div></div></div><div class=\"sk-serial\"><div class=\"sk-item\"><div class=\"sk-serial\"><div class=\"sk-item\"><div class=\"sk-estimator sk-toggleable\"><input class=\"sk-toggleable__control sk-hidden--visually\" id=\"sk-estimator-id-7\" type=\"checkbox\" ><label for=\"sk-estimator-id-7\" class=\"sk-toggleable__label sk-toggleable__label-arrow\">StandardScaler</label><div class=\"sk-toggleable__content\"><pre>StandardScaler()</pre></div></div></div><div class=\"sk-item\"><div class=\"sk-estimator sk-toggleable\"><input class=\"sk-toggleable__control sk-hidden--visually\" id=\"sk-estimator-id-8\" type=\"checkbox\" ><label for=\"sk-estimator-id-8\" class=\"sk-toggleable__label sk-toggleable__label-arrow\">RandomForestRegressor</label><div class=\"sk-toggleable__content\"><pre>RandomForestRegressor()</pre></div></div></div></div></div></div></div></div></div></div></div></div>"
      ],
      "text/plain": [
       "GridSearchCV(cv=5,\n",
       "             estimator=Pipeline(steps=[('standardscaler', StandardScaler()),\n",
       "                                       ('randomforestregressor',\n",
       "                                        RandomForestRegressor())]),\n",
       "             n_jobs=-1,\n",
       "             param_grid={'randomforestregressor__max_depth': [30, 50],\n",
       "                         'randomforestregressor__min_samples_leaf': [3, 5],\n",
       "                         'randomforestregressor__min_samples_split': [2, 5,\n",
       "                                                                      10]},\n",
       "             scoring='r2')"
      ]
     },
     "execution_count": 23,
     "metadata": {},
     "output_type": "execute_result"
    }
   ],
   "source": [
    "param_grid = {\n",
    "     'randomforestregressor__max_depth': [30, 50],\n",
    "     'randomforestregressor__min_samples_split': [2, 5, 10],\n",
    "     'randomforestregressor__min_samples_leaf': [3, 5]\n",
    "}\n",
    "grid_search = GridSearchCV(rfr, param_grid, cv=5, scoring='r2', n_jobs=-1)\n",
    "grid_search.fit(X_train, Y_train)"
   ]
  },
  {
   "cell_type": "code",
   "execution_count": 24,
   "metadata": {},
   "outputs": [
    {
     "name": "stdout",
     "output_type": "stream",
     "text": [
      "{'randomforestregressor__max_depth': 30, 'randomforestregressor__min_samples_leaf': 5, 'randomforestregressor__min_samples_split': 5}\n",
      "MSE: 268505.193\n",
      "MAE: 303.273\n",
      "R^2: 0.697\n"
     ]
    }
   ],
   "source": [
    "print(grid_search.best_params_)\n",
    "rfr_best = grid_search.best_estimator_\n",
    "predictions_rfr = rfr_best.predict(X_test)\n",
    "print(f'MSE: {mean_squared_error(Y_test, predictions_rfr):.3f}')\n",
    "print(f'MAE: {mean_absolute_error(Y_test, predictions_rfr):.3f}')\n",
    "print(f'R^2: {r2_score(Y_test, predictions_rfr):.3f}')"
   ]
  },
  {
   "attachments": {},
   "cell_type": "markdown",
   "metadata": {},
   "source": [
    "# SVR"
   ]
  },
  {
   "cell_type": "code",
   "execution_count": 25,
   "metadata": {},
   "outputs": [],
   "source": [
    "svr = make_pipeline(StandardScaler(),SVR())"
   ]
  },
  {
   "cell_type": "code",
   "execution_count": 26,
   "metadata": {},
   "outputs": [
    {
     "name": "stdout",
     "output_type": "stream",
     "text": [
      "Pipeline(steps=[('standardscaler', StandardScaler()), ('svr', SVR())])\n"
     ]
    }
   ],
   "source": [
    "print(svr)"
   ]
  },
  {
   "cell_type": "code",
   "execution_count": 27,
   "metadata": {},
   "outputs": [
    {
     "data": {
      "text/html": [
       "<style>#sk-container-id-3 {color: black;background-color: white;}#sk-container-id-3 pre{padding: 0;}#sk-container-id-3 div.sk-toggleable {background-color: white;}#sk-container-id-3 label.sk-toggleable__label {cursor: pointer;display: block;width: 100%;margin-bottom: 0;padding: 0.3em;box-sizing: border-box;text-align: center;}#sk-container-id-3 label.sk-toggleable__label-arrow:before {content: \"▸\";float: left;margin-right: 0.25em;color: #696969;}#sk-container-id-3 label.sk-toggleable__label-arrow:hover:before {color: black;}#sk-container-id-3 div.sk-estimator:hover label.sk-toggleable__label-arrow:before {color: black;}#sk-container-id-3 div.sk-toggleable__content {max-height: 0;max-width: 0;overflow: hidden;text-align: left;background-color: #f0f8ff;}#sk-container-id-3 div.sk-toggleable__content pre {margin: 0.2em;color: black;border-radius: 0.25em;background-color: #f0f8ff;}#sk-container-id-3 input.sk-toggleable__control:checked~div.sk-toggleable__content {max-height: 200px;max-width: 100%;overflow: auto;}#sk-container-id-3 input.sk-toggleable__control:checked~label.sk-toggleable__label-arrow:before {content: \"▾\";}#sk-container-id-3 div.sk-estimator input.sk-toggleable__control:checked~label.sk-toggleable__label {background-color: #d4ebff;}#sk-container-id-3 div.sk-label input.sk-toggleable__control:checked~label.sk-toggleable__label {background-color: #d4ebff;}#sk-container-id-3 input.sk-hidden--visually {border: 0;clip: rect(1px 1px 1px 1px);clip: rect(1px, 1px, 1px, 1px);height: 1px;margin: -1px;overflow: hidden;padding: 0;position: absolute;width: 1px;}#sk-container-id-3 div.sk-estimator {font-family: monospace;background-color: #f0f8ff;border: 1px dotted black;border-radius: 0.25em;box-sizing: border-box;margin-bottom: 0.5em;}#sk-container-id-3 div.sk-estimator:hover {background-color: #d4ebff;}#sk-container-id-3 div.sk-parallel-item::after {content: \"\";width: 100%;border-bottom: 1px solid gray;flex-grow: 1;}#sk-container-id-3 div.sk-label:hover label.sk-toggleable__label {background-color: #d4ebff;}#sk-container-id-3 div.sk-serial::before {content: \"\";position: absolute;border-left: 1px solid gray;box-sizing: border-box;top: 0;bottom: 0;left: 50%;z-index: 0;}#sk-container-id-3 div.sk-serial {display: flex;flex-direction: column;align-items: center;background-color: white;padding-right: 0.2em;padding-left: 0.2em;position: relative;}#sk-container-id-3 div.sk-item {position: relative;z-index: 1;}#sk-container-id-3 div.sk-parallel {display: flex;align-items: stretch;justify-content: center;background-color: white;position: relative;}#sk-container-id-3 div.sk-item::before, #sk-container-id-3 div.sk-parallel-item::before {content: \"\";position: absolute;border-left: 1px solid gray;box-sizing: border-box;top: 0;bottom: 0;left: 50%;z-index: -1;}#sk-container-id-3 div.sk-parallel-item {display: flex;flex-direction: column;z-index: 1;position: relative;background-color: white;}#sk-container-id-3 div.sk-parallel-item:first-child::after {align-self: flex-end;width: 50%;}#sk-container-id-3 div.sk-parallel-item:last-child::after {align-self: flex-start;width: 50%;}#sk-container-id-3 div.sk-parallel-item:only-child::after {width: 0;}#sk-container-id-3 div.sk-dashed-wrapped {border: 1px dashed gray;margin: 0 0.4em 0.5em 0.4em;box-sizing: border-box;padding-bottom: 0.4em;background-color: white;}#sk-container-id-3 div.sk-label label {font-family: monospace;font-weight: bold;display: inline-block;line-height: 1.2em;}#sk-container-id-3 div.sk-label-container {text-align: center;}#sk-container-id-3 div.sk-container {/* jupyter's `normalize.less` sets `[hidden] { display: none; }` but bootstrap.min.css set `[hidden] { display: none !important; }` so we also need the `!important` here to be able to override the default hidden behavior on the sphinx rendered scikit-learn.org. See: https://github.com/scikit-learn/scikit-learn/issues/21755 */display: inline-block !important;position: relative;}#sk-container-id-3 div.sk-text-repr-fallback {display: none;}</style><div id=\"sk-container-id-3\" class=\"sk-top-container\"><div class=\"sk-text-repr-fallback\"><pre>GridSearchCV(cv=5,\n",
       "             estimator=Pipeline(steps=[(&#x27;standardscaler&#x27;, StandardScaler()),\n",
       "                                       (&#x27;svr&#x27;, SVR())]),\n",
       "             n_jobs=-1,\n",
       "             param_grid=[{&#x27;svr__C&#x27;: [100, 300, 500],\n",
       "                          &#x27;svr__epsilon&#x27;: [3e-05, 0.0001],\n",
       "                          &#x27;svr__kernel&#x27;: [&#x27;linear&#x27;]},\n",
       "                         {&#x27;svr__C&#x27;: [10, 100, 1000],\n",
       "                          &#x27;svr__epsilon&#x27;: [3e-05, 0.0001],\n",
       "                          &#x27;svr__gamma&#x27;: [0.001, 0.0001],\n",
       "                          &#x27;svr__kernel&#x27;: [&#x27;rbf&#x27;]}],\n",
       "             scoring=&#x27;r2&#x27;)</pre><b>In a Jupyter environment, please rerun this cell to show the HTML representation or trust the notebook. <br />On GitHub, the HTML representation is unable to render, please try loading this page with nbviewer.org.</b></div><div class=\"sk-container\" hidden><div class=\"sk-item sk-dashed-wrapped\"><div class=\"sk-label-container\"><div class=\"sk-label sk-toggleable\"><input class=\"sk-toggleable__control sk-hidden--visually\" id=\"sk-estimator-id-9\" type=\"checkbox\" ><label for=\"sk-estimator-id-9\" class=\"sk-toggleable__label sk-toggleable__label-arrow\">GridSearchCV</label><div class=\"sk-toggleable__content\"><pre>GridSearchCV(cv=5,\n",
       "             estimator=Pipeline(steps=[(&#x27;standardscaler&#x27;, StandardScaler()),\n",
       "                                       (&#x27;svr&#x27;, SVR())]),\n",
       "             n_jobs=-1,\n",
       "             param_grid=[{&#x27;svr__C&#x27;: [100, 300, 500],\n",
       "                          &#x27;svr__epsilon&#x27;: [3e-05, 0.0001],\n",
       "                          &#x27;svr__kernel&#x27;: [&#x27;linear&#x27;]},\n",
       "                         {&#x27;svr__C&#x27;: [10, 100, 1000],\n",
       "                          &#x27;svr__epsilon&#x27;: [3e-05, 0.0001],\n",
       "                          &#x27;svr__gamma&#x27;: [0.001, 0.0001],\n",
       "                          &#x27;svr__kernel&#x27;: [&#x27;rbf&#x27;]}],\n",
       "             scoring=&#x27;r2&#x27;)</pre></div></div></div><div class=\"sk-parallel\"><div class=\"sk-parallel-item\"><div class=\"sk-item\"><div class=\"sk-label-container\"><div class=\"sk-label sk-toggleable\"><input class=\"sk-toggleable__control sk-hidden--visually\" id=\"sk-estimator-id-10\" type=\"checkbox\" ><label for=\"sk-estimator-id-10\" class=\"sk-toggleable__label sk-toggleable__label-arrow\">estimator: Pipeline</label><div class=\"sk-toggleable__content\"><pre>Pipeline(steps=[(&#x27;standardscaler&#x27;, StandardScaler()), (&#x27;svr&#x27;, SVR())])</pre></div></div></div><div class=\"sk-serial\"><div class=\"sk-item\"><div class=\"sk-serial\"><div class=\"sk-item\"><div class=\"sk-estimator sk-toggleable\"><input class=\"sk-toggleable__control sk-hidden--visually\" id=\"sk-estimator-id-11\" type=\"checkbox\" ><label for=\"sk-estimator-id-11\" class=\"sk-toggleable__label sk-toggleable__label-arrow\">StandardScaler</label><div class=\"sk-toggleable__content\"><pre>StandardScaler()</pre></div></div></div><div class=\"sk-item\"><div class=\"sk-estimator sk-toggleable\"><input class=\"sk-toggleable__control sk-hidden--visually\" id=\"sk-estimator-id-12\" type=\"checkbox\" ><label for=\"sk-estimator-id-12\" class=\"sk-toggleable__label sk-toggleable__label-arrow\">SVR</label><div class=\"sk-toggleable__content\"><pre>SVR()</pre></div></div></div></div></div></div></div></div></div></div></div></div>"
      ],
      "text/plain": [
       "GridSearchCV(cv=5,\n",
       "             estimator=Pipeline(steps=[('standardscaler', StandardScaler()),\n",
       "                                       ('svr', SVR())]),\n",
       "             n_jobs=-1,\n",
       "             param_grid=[{'svr__C': [100, 300, 500],\n",
       "                          'svr__epsilon': [3e-05, 0.0001],\n",
       "                          'svr__kernel': ['linear']},\n",
       "                         {'svr__C': [10, 100, 1000],\n",
       "                          'svr__epsilon': [3e-05, 0.0001],\n",
       "                          'svr__gamma': [0.001, 0.0001],\n",
       "                          'svr__kernel': ['rbf']}],\n",
       "             scoring='r2')"
      ]
     },
     "execution_count": 27,
     "metadata": {},
     "output_type": "execute_result"
    }
   ],
   "source": [
    "param_grid = [\n",
    "     {'svr__kernel': ['linear'], 'svr__C': [100, 300, 500], 'svr__epsilon': [0.00003, 0.0001]},\n",
    "     {'svr__kernel': ['rbf'], 'svr__gamma': [1e-3, 1e-4],'svr__C': [10, 100, 1000], 'svr__epsilon': [0.00003, 0.0001]}\n",
    "]\n",
    "grid_search = GridSearchCV(svr, param_grid, cv=5, scoring='r2', n_jobs=-1)\n",
    "grid_search.fit(X_train, Y_train)"
   ]
  },
  {
   "cell_type": "code",
   "execution_count": 28,
   "metadata": {},
   "outputs": [
    {
     "name": "stdout",
     "output_type": "stream",
     "text": [
      "{'svr__C': 500, 'svr__epsilon': 3e-05, 'svr__kernel': 'linear'}\n",
      "MSE: 17466.689\n",
      "MAE: 95.070\n",
      "R^2: 0.980\n"
     ]
    }
   ],
   "source": [
    "print(grid_search.best_params_)\n",
    "svr_best = grid_search.best_estimator_\n",
    "predictions_svr = svr_best.predict(X_test)\n",
    "print(f'MSE: {mean_squared_error(Y_test, predictions_svr):.3f}')\n",
    "print(f'MAE: {mean_absolute_error(Y_test, predictions_svr):.3f}')\n",
    "print(f'R^2: {r2_score(Y_test, predictions_svr):.3f}')"
   ]
  },
  {
   "attachments": {},
   "cell_type": "markdown",
   "metadata": {},
   "source": [
    "# Plor results"
   ]
  },
  {
   "cell_type": "code",
   "execution_count": 45,
   "metadata": {},
   "outputs": [
    {
     "data": {
      "image/png": "[encoded data removed]",
      "text/plain": [
       "<Figure size 1500x500 with 1 Axes>"
      ]
     },
     "metadata": {},
     "output_type": "display_data"
    }
   ],
   "source": [
    "fig, ax = plt.subplots(figsize=(15,5))\n",
    "ax.plot(test_data.index, Y_test, 'k')\n",
    "ax.plot(test_data.index, predictions_lr,'b')\n",
    "ax.plot(test_data.index, predictions_rfr, 'r')\n",
    "ax.plot(test_data.index, predictions_svr, 'g')\n",
    "plt.xticks(range(0, 252, 10), rotation=60)\n",
    "ax.set_xlabel('Date')\n",
    "ax.set_ylabel('Close price')\n",
    "ax.legend(['Truth', 'Linear regression', 'Random Forest', 'SVR'])\n",
    "plt.show()"
   ]
  },
  {
   "cell_type": "code",
   "execution_count": null,
   "metadata": {},
   "outputs": [],
   "source": []
  }
 ],
 "metadata": {
  "kernelspec": {
   "display_name": "Python 3",
   "language": "python",
   "name": "python3"
  },
  "language_info": {
   "codemirror_mode": {
    "name": "ipython",
    "version": 3
   },
   "file_extension": ".py",
   "mimetype": "text/x-python",
   "name": "python",
   "nbconvert_exporter": "python",
   "pygments_lexer": "ipython3",
   "version": "3.10.0"
  },
  "orig_nbformat": 4
 },
 "nbformat": 4,
 "nbformat_minor": 2
}
